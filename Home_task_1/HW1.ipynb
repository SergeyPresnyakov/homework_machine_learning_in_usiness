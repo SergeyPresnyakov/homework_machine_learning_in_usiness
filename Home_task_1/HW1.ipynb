{
  "cells": [
    {
      "cell_type": "markdown",
      "metadata": {
        "id": "ROvu3ZBCKKDu"
      },
      "source": [
        "Автор материала: Зраев Артем.\n",
        "\n",
        "Можно использовать в каких угодно целях."
      ]
    },
    {
      "cell_type": "markdown",
      "metadata": {},
      "source": [
        "Домашнее задание 1 (теоретическая часть)\n",
        "Здесь предлагается то, что полезно знать и уметь для успешного прохождения курса (да и без курса полезно)\n",
        "\n",
        "ML:\n",
        "1. вспомнить базовые алгоритмы машинного обучения: линейные модели, \"деревянные\"\n",
        "2. повторить метрики качества в задачах классификации/регрессии. (например, понимать что такое roc auc и как его интерпретировать и т.д)\n",
        "3. вспомнить из каких этапов состоит решение ML-задачи и уметь объяснить каждый из этапов: подготовка данных, feature engineering, modelling, evaluation, etc\n",
        "4. кроссвалидация\n",
        "\n",
        "Теория вероятностей и статистика:\n",
        "1. Генеральная совокупность и выборка\n",
        "2. Базовые статистики: среднее, медиана, дисперсия\n",
        "3. Распределения: нормальное, бернулли, пуассона и т.д\n",
        "4. Нулевая и альтернативная гипотезы\n",
        "5. статистические тесты\n",
        "\n",
        "Python:\n",
        "1. структуры данных: set, list, dict, tuple, etc\n",
        "2. циклы, условия\n",
        "3. numpy/pandas/sklearn\n",
        "\n",
        "Полезные ссылки  \n",
        "Метрики качества - https://habr.com/ru/company/ods/blog/328372/   \n",
        "roc auc - https://dyakonov.org/2017/07/28/auc-roc-площадь-под-кривой-ошибок/   \n",
        "Основы статистики: просто о сложных формулах - https://habr.com/ru/company/stepic/blog/250527/   \n",
        "Теория вероятностей в работе программиста (вебинар) - https://geekbrains.ru/events/129   \n",
        "Туториал по машинному обучению (sklearn) - https://scikit-learn.org/stable/tutorial/basic/tutorial.html   \n",
        "Туториал по github - https://guides.github.com/activities/hello-world/"
      ]
    },
    {
      "cell_type": "markdown",
      "metadata": {},
      "source": [
        "Домашнее задание 2 (практическая часть)\n",
        "Ноутбук HW1.ipynb (есть в директории занятия)\n",
        "\n",
        "Нужные пакеты и библиотеки:\n",
        "- plotly\n",
        "- imblearn\n",
        "- yellowbrick"
      ]
    },
    {
      "cell_type": "markdown",
      "metadata": {
        "id": "I7eFBJOFKKDw"
      },
      "source": [
        "<b> В задании нужно загрузить датасет с данными оттока и ответить на несколько вопросов (написать код). При этом сам датасет уже есть и его необязательно качать с репозитория</b>"
      ]
    },
    {
      "cell_type": "markdown",
      "metadata": {
        "id": "hHAgJ97XKKDw"
      },
      "source": [
        "Цель задания: проверить базовые навыки работы студентов с Pandas, умение проводить такой же базовый EDA (exploratory data analysis), делать feature engineering и обучать и валидировать модель."
      ]
    },
    {
      "cell_type": "markdown",
      "metadata": {
        "id": "6nueN1F6KKDw"
      },
      "source": [
        "Список столбцов с типами данных в датасете:\n",
        "\n",
        "- customerID           object\n",
        "- gender               object\n",
        "- SeniorCitizen         int64\n",
        "- Partner              object\n",
        "- Dependents           object\n",
        "- tenure                int64\n",
        "- PhoneService         object\n",
        "- MultipleLines        object\n",
        "- InternetService      object\n",
        "- OnlineSecurity       object\n",
        "- OnlineBackup         object\n",
        "- DeviceProtection     object\n",
        "- TechSupport          object\n",
        "- StreamingTV          object\n",
        "- StreamingMovies      object\n",
        "- Contract             object\n",
        "- PaperlessBilling     object\n",
        "- PaymentMethod        object\n",
        "- MonthlyCharges      float64\n",
        "- TotalCharges         object\n",
        "- Churn                object"
      ]
    },
    {
      "cell_type": "code",
      "execution_count": 1,
      "metadata": {
        "id": "53l3ktS6KKDx"
      },
      "outputs": [
        {
          "name": "stdout",
          "output_type": "stream",
          "text": [
            "<class 'pandas.core.frame.DataFrame'>\n",
            "RangeIndex: 7043 entries, 0 to 7042\n",
            "Data columns (total 21 columns):\n",
            " #   Column            Non-Null Count  Dtype  \n",
            "---  ------            --------------  -----  \n",
            " 0   customerID        7043 non-null   object \n",
            " 1   gender            7043 non-null   object \n",
            " 2   SeniorCitizen     7043 non-null   int64  \n",
            " 3   Partner           7043 non-null   object \n",
            " 4   Dependents        7043 non-null   object \n",
            " 5   tenure            7043 non-null   int64  \n",
            " 6   PhoneService      7043 non-null   object \n",
            " 7   MultipleLines     7043 non-null   object \n",
            " 8   InternetService   7043 non-null   object \n",
            " 9   OnlineSecurity    7043 non-null   object \n",
            " 10  OnlineBackup      7043 non-null   object \n",
            " 11  DeviceProtection  7043 non-null   object \n",
            " 12  TechSupport       7043 non-null   object \n",
            " 13  StreamingTV       7043 non-null   object \n",
            " 14  StreamingMovies   7043 non-null   object \n",
            " 15  Contract          7043 non-null   object \n",
            " 16  PaperlessBilling  7043 non-null   object \n",
            " 17  PaymentMethod     7043 non-null   object \n",
            " 18  MonthlyCharges    7043 non-null   float64\n",
            " 19  TotalCharges      7043 non-null   object \n",
            " 20  Churn             7043 non-null   object \n",
            "dtypes: float64(1), int64(2), object(18)\n",
            "memory usage: 1.1+ MB\n"
          ]
        },
        {
          "data": {
            "text/html": [
              "<div>\n",
              "<style scoped>\n",
              "    .dataframe tbody tr th:only-of-type {\n",
              "        vertical-align: middle;\n",
              "    }\n",
              "\n",
              "    .dataframe tbody tr th {\n",
              "        vertical-align: top;\n",
              "    }\n",
              "\n",
              "    .dataframe thead th {\n",
              "        text-align: right;\n",
              "    }\n",
              "</style>\n",
              "<table border=\"1\" class=\"dataframe\">\n",
              "  <thead>\n",
              "    <tr style=\"text-align: right;\">\n",
              "      <th></th>\n",
              "      <th>customerID</th>\n",
              "      <th>gender</th>\n",
              "      <th>SeniorCitizen</th>\n",
              "      <th>Partner</th>\n",
              "      <th>Dependents</th>\n",
              "      <th>tenure</th>\n",
              "      <th>PhoneService</th>\n",
              "      <th>MultipleLines</th>\n",
              "      <th>InternetService</th>\n",
              "      <th>OnlineSecurity</th>\n",
              "      <th>...</th>\n",
              "      <th>DeviceProtection</th>\n",
              "      <th>TechSupport</th>\n",
              "      <th>StreamingTV</th>\n",
              "      <th>StreamingMovies</th>\n",
              "      <th>Contract</th>\n",
              "      <th>PaperlessBilling</th>\n",
              "      <th>PaymentMethod</th>\n",
              "      <th>MonthlyCharges</th>\n",
              "      <th>TotalCharges</th>\n",
              "      <th>Churn</th>\n",
              "    </tr>\n",
              "  </thead>\n",
              "  <tbody>\n",
              "    <tr>\n",
              "      <th>0</th>\n",
              "      <td>7590-VHVEG</td>\n",
              "      <td>Female</td>\n",
              "      <td>0</td>\n",
              "      <td>Yes</td>\n",
              "      <td>No</td>\n",
              "      <td>1</td>\n",
              "      <td>No</td>\n",
              "      <td>No phone service</td>\n",
              "      <td>DSL</td>\n",
              "      <td>No</td>\n",
              "      <td>...</td>\n",
              "      <td>No</td>\n",
              "      <td>No</td>\n",
              "      <td>No</td>\n",
              "      <td>No</td>\n",
              "      <td>Month-to-month</td>\n",
              "      <td>Yes</td>\n",
              "      <td>Electronic check</td>\n",
              "      <td>29.85</td>\n",
              "      <td>29.85</td>\n",
              "      <td>No</td>\n",
              "    </tr>\n",
              "    <tr>\n",
              "      <th>1</th>\n",
              "      <td>5575-GNVDE</td>\n",
              "      <td>Male</td>\n",
              "      <td>0</td>\n",
              "      <td>No</td>\n",
              "      <td>No</td>\n",
              "      <td>34</td>\n",
              "      <td>Yes</td>\n",
              "      <td>No</td>\n",
              "      <td>DSL</td>\n",
              "      <td>Yes</td>\n",
              "      <td>...</td>\n",
              "      <td>Yes</td>\n",
              "      <td>No</td>\n",
              "      <td>No</td>\n",
              "      <td>No</td>\n",
              "      <td>One year</td>\n",
              "      <td>No</td>\n",
              "      <td>Mailed check</td>\n",
              "      <td>56.95</td>\n",
              "      <td>1889.5</td>\n",
              "      <td>No</td>\n",
              "    </tr>\n",
              "    <tr>\n",
              "      <th>2</th>\n",
              "      <td>3668-QPYBK</td>\n",
              "      <td>Male</td>\n",
              "      <td>0</td>\n",
              "      <td>No</td>\n",
              "      <td>No</td>\n",
              "      <td>2</td>\n",
              "      <td>Yes</td>\n",
              "      <td>No</td>\n",
              "      <td>DSL</td>\n",
              "      <td>Yes</td>\n",
              "      <td>...</td>\n",
              "      <td>No</td>\n",
              "      <td>No</td>\n",
              "      <td>No</td>\n",
              "      <td>No</td>\n",
              "      <td>Month-to-month</td>\n",
              "      <td>Yes</td>\n",
              "      <td>Mailed check</td>\n",
              "      <td>53.85</td>\n",
              "      <td>108.15</td>\n",
              "      <td>Yes</td>\n",
              "    </tr>\n",
              "  </tbody>\n",
              "</table>\n",
              "<p>3 rows × 21 columns</p>\n",
              "</div>"
            ],
            "text/plain": [
              "   customerID  gender  SeniorCitizen Partner Dependents  tenure PhoneService  \\\n",
              "0  7590-VHVEG  Female              0     Yes         No       1           No   \n",
              "1  5575-GNVDE    Male              0      No         No      34          Yes   \n",
              "2  3668-QPYBK    Male              0      No         No       2          Yes   \n",
              "\n",
              "      MultipleLines InternetService OnlineSecurity  ... DeviceProtection  \\\n",
              "0  No phone service             DSL             No  ...               No   \n",
              "1                No             DSL            Yes  ...              Yes   \n",
              "2                No             DSL            Yes  ...               No   \n",
              "\n",
              "  TechSupport StreamingTV StreamingMovies        Contract PaperlessBilling  \\\n",
              "0          No          No              No  Month-to-month              Yes   \n",
              "1          No          No              No        One year               No   \n",
              "2          No          No              No  Month-to-month              Yes   \n",
              "\n",
              "      PaymentMethod MonthlyCharges  TotalCharges Churn  \n",
              "0  Electronic check          29.85         29.85    No  \n",
              "1      Mailed check          56.95        1889.5    No  \n",
              "2      Mailed check          53.85        108.15   Yes  \n",
              "\n",
              "[3 rows x 21 columns]"
            ]
          },
          "execution_count": 1,
          "metadata": {},
          "output_type": "execute_result"
        }
      ],
      "source": [
        "import pandas as pd\n",
        "import numpy as np\n",
        "pd.set_option('display.float_format', lambda x: '%.2f' % x)\n",
        "\n",
        "df = pd.read_csv(\"./WA_Fn-UseC_-Telco-Customer-Churn.csv\")\n",
        "df.info()\n",
        "df.head(3)"
      ]
    },
    {
      "cell_type": "markdown",
      "metadata": {
        "id": "fipO4NHLKKDx"
      },
      "source": [
        "##### 1. Какое соотношение мужчин и женщин в представленном наборе данных?"
      ]
    },
    {
      "cell_type": "code",
      "execution_count": 2,
      "metadata": {},
      "outputs": [
        {
          "name": "stdout",
          "output_type": "stream",
          "text": [
            "Доля мужчин в датасете:  0.504756495811444\n",
            "Доля женщин в датасете:  0.495243504188556\n",
            "Соотношение мужчин и женщин в датасете:  1.0192087155963303\n"
          ]
        }
      ],
      "source": [
        "print('Доля мужчин в датасете: ', df[df.gender == 'Male']['gender'].count() / df['gender'].count())\n",
        "print('Доля женщин в датасете: ', df[df.gender == 'Female']['gender'].count() / df['gender'].count())\n",
        "print('Соотношение мужчин и женщин в датасете: ', df[df.gender == 'Male']['gender'].count() / df[df.gender == 'Female']['gender'].count() )"
      ]
    },
    {
      "cell_type": "markdown",
      "metadata": {
        "id": "GGc6WT1yKKDy"
      },
      "source": [
        "##### 2. Какое количество уникальных значений у поля InternetService?"
      ]
    },
    {
      "cell_type": "code",
      "execution_count": 3,
      "metadata": {
        "id": "FjTlUki-KKDy"
      },
      "outputs": [
        {
          "name": "stdout",
          "output_type": "stream",
          "text": [
            "Количество уникальных значений у поля InternetService:  3\n"
          ]
        }
      ],
      "source": [
        "print('Количество уникальных значений у поля InternetService: ', len(df.InternetService.unique()))"
      ]
    },
    {
      "cell_type": "markdown",
      "metadata": {
        "id": "NW2KOQxAKKDz"
      },
      "source": [
        "##### 3. Выведите статистики по полю TotalCharges (median, mean, std)."
      ]
    },
    {
      "cell_type": "code",
      "execution_count": 4,
      "metadata": {
        "id": "n8-wlixbKKDz"
      },
      "outputs": [
        {
          "data": {
            "text/plain": [
              "count     7043\n",
              "unique    6531\n",
              "top           \n",
              "freq        11\n",
              "Name: TotalCharges, dtype: object"
            ]
          },
          "execution_count": 4,
          "metadata": {},
          "output_type": "execute_result"
        }
      ],
      "source": [
        "df.TotalCharges.describe()"
      ]
    },
    {
      "cell_type": "markdown",
      "metadata": {
        "id": "YGKVp_8IKKDz"
      },
      "source": [
        "В чем странность того, что вы получили? (подсказка: смотреть нужно на тип данных)"
      ]
    },
    {
      "cell_type": "markdown",
      "metadata": {},
      "source": [
        "Мы видим, что статистики по полю TotalCharges не рассчитываются. Связано это с тем, что данное в данном поле имеют строковый тип - object."
      ]
    },
    {
      "cell_type": "markdown",
      "metadata": {
        "id": "QgoeSWrjKKDz"
      },
      "source": [
        "##### 4. Сделайте замену значений поля PhoneService  на числовые (Yes->1, No->0)"
      ]
    },
    {
      "cell_type": "code",
      "execution_count": 5,
      "metadata": {
        "id": "wi0_etJYKKDz"
      },
      "outputs": [],
      "source": [
        "df['PhoneService'] = np.where((df.PhoneService == 'Yes'), 1, 0)"
      ]
    },
    {
      "cell_type": "markdown",
      "metadata": {
        "id": "p0q3BWg2KKD0"
      },
      "source": [
        "##### 5. Сделайте замену пробелов в поле TotalCharges на np.nan и приведите поле к типу данных float32. Затем заполните оставшиеся пропуски значением 0 с помощью метода fillna у столбца. Снова выведите статистики и сравните с тем, что вы видели в вопросе 3"
      ]
    },
    {
      "cell_type": "code",
      "execution_count": 6,
      "metadata": {},
      "outputs": [
        {
          "data": {
            "text/plain": [
              "count   7043.00\n",
              "mean    2279.73\n",
              "std     2266.79\n",
              "min        0.00\n",
              "25%      398.55\n",
              "50%     1394.55\n",
              "75%     3786.60\n",
              "max     8684.80\n",
              "Name: TotalCharges, dtype: float64"
            ]
          },
          "execution_count": 6,
          "metadata": {},
          "output_type": "execute_result"
        }
      ],
      "source": [
        "df['TotalCharges'] = df.TotalCharges.replace(r' ', np.NaN).astype(np.float32).fillna(0)\n",
        "df.TotalCharges.describe()"
      ]
    },
    {
      "cell_type": "markdown",
      "metadata": {},
      "source": [
        "Видим, что все статистики коррекно рассчитались, поскольку данные в этом столбце имеют числовой вид - float32"
      ]
    },
    {
      "cell_type": "markdown",
      "metadata": {
        "id": "7y1HK1KEKKD0"
      },
      "source": [
        "##### 6. Сделайте замену значений поля Churn на числовые (Yes -> 1, No - 0)"
      ]
    },
    {
      "cell_type": "code",
      "execution_count": 7,
      "metadata": {
        "id": "W4iyHn01KKD0"
      },
      "outputs": [],
      "source": [
        "df['Churn'] = np.where((df.Churn == 'Yes'), 1, 0)"
      ]
    },
    {
      "cell_type": "markdown",
      "metadata": {
        "id": "EWbnTL51KKD0"
      },
      "source": [
        "##### 7. Сделайте замену значений полей StreamingMovies, StreamingTV, TechSupport  на числовые (Yes -> 1, No -> 0, No internet service->0)"
      ]
    },
    {
      "cell_type": "code",
      "execution_count": 8,
      "metadata": {
        "id": "ngfFaO2hKKD0"
      },
      "outputs": [],
      "source": [
        "for col in ('StreamingMovies', 'StreamingTV', 'TechSupport'):\n",
        "    df[col] = np.where((df[col].isin(['Yes', 'No internet service'])), 1, 0)"
      ]
    },
    {
      "cell_type": "markdown",
      "metadata": {
        "id": "QcBUDijFKKD0"
      },
      "source": [
        "##### 8. Заполните пропуски в поле PhoneService значением 0"
      ]
    },
    {
      "cell_type": "code",
      "execution_count": 9,
      "metadata": {
        "id": "xy8nGi1LKKD0"
      },
      "outputs": [],
      "source": [
        "df['PhoneService'] = df.PhoneService.fillna(0)"
      ]
    },
    {
      "cell_type": "markdown",
      "metadata": {
        "id": "AgFrbTWyKKD0"
      },
      "source": [
        "#### 8. Для нашего датасета оставьте только указанный ниже список полей, удалив все другие и выведите верхние 3 строки"
      ]
    },
    {
      "cell_type": "code",
      "execution_count": 10,
      "metadata": {
        "id": "mp8ifbMPKKD1"
      },
      "outputs": [
        {
          "data": {
            "text/html": [
              "<div>\n",
              "<style scoped>\n",
              "    .dataframe tbody tr th:only-of-type {\n",
              "        vertical-align: middle;\n",
              "    }\n",
              "\n",
              "    .dataframe tbody tr th {\n",
              "        vertical-align: top;\n",
              "    }\n",
              "\n",
              "    .dataframe thead th {\n",
              "        text-align: right;\n",
              "    }\n",
              "</style>\n",
              "<table border=\"1\" class=\"dataframe\">\n",
              "  <thead>\n",
              "    <tr style=\"text-align: right;\">\n",
              "      <th></th>\n",
              "      <th>gender</th>\n",
              "      <th>tenure</th>\n",
              "      <th>PhoneService</th>\n",
              "      <th>TotalCharges</th>\n",
              "      <th>StreamingMovies</th>\n",
              "      <th>StreamingTV</th>\n",
              "      <th>TechSupport</th>\n",
              "      <th>Churn</th>\n",
              "    </tr>\n",
              "  </thead>\n",
              "  <tbody>\n",
              "    <tr>\n",
              "      <th>0</th>\n",
              "      <td>Female</td>\n",
              "      <td>1</td>\n",
              "      <td>0</td>\n",
              "      <td>29.85</td>\n",
              "      <td>0</td>\n",
              "      <td>0</td>\n",
              "      <td>0</td>\n",
              "      <td>0</td>\n",
              "    </tr>\n",
              "    <tr>\n",
              "      <th>1</th>\n",
              "      <td>Male</td>\n",
              "      <td>34</td>\n",
              "      <td>1</td>\n",
              "      <td>1889.50</td>\n",
              "      <td>0</td>\n",
              "      <td>0</td>\n",
              "      <td>0</td>\n",
              "      <td>0</td>\n",
              "    </tr>\n",
              "    <tr>\n",
              "      <th>2</th>\n",
              "      <td>Male</td>\n",
              "      <td>2</td>\n",
              "      <td>1</td>\n",
              "      <td>108.15</td>\n",
              "      <td>0</td>\n",
              "      <td>0</td>\n",
              "      <td>0</td>\n",
              "      <td>1</td>\n",
              "    </tr>\n",
              "  </tbody>\n",
              "</table>\n",
              "</div>"
            ],
            "text/plain": [
              "   gender  tenure  PhoneService  TotalCharges  StreamingMovies  StreamingTV  \\\n",
              "0  Female       1             0         29.85                0            0   \n",
              "1    Male      34             1       1889.50                0            0   \n",
              "2    Male       2             1        108.15                0            0   \n",
              "\n",
              "   TechSupport  Churn  \n",
              "0            0      0  \n",
              "1            0      0  \n",
              "2            0      1  "
            ]
          },
          "execution_count": 10,
          "metadata": {},
          "output_type": "execute_result"
        }
      ],
      "source": [
        "columns = ['gender', 'tenure', 'PhoneService', 'TotalCharges', \n",
        "           'StreamingMovies', 'StreamingTV', 'TechSupport', 'Churn']\n",
        "df = df[columns]\n",
        "df.head(3)"
      ]
    },
    {
      "cell_type": "markdown",
      "metadata": {
        "id": "CRfxKYeQKKD1"
      },
      "source": [
        "##### 9. Разделите датасет на тренировочную и тестовую выборку (подсказка - воспользуйтесь train_test_split из sklearn.model_selection. Ссылка - https://scikit-learn.org/stable/modules/generated/sklearn.model_selection.train_test_split.html)"
      ]
    },
    {
      "cell_type": "code",
      "execution_count": 11,
      "metadata": {
        "id": "pExNd5r0KKD1"
      },
      "outputs": [
        {
          "name": "stdout",
          "output_type": "stream",
          "text": [
            "(5282, 7) (5282,)\n",
            "(1761, 7) (1761,)\n"
          ]
        }
      ],
      "source": [
        "from sklearn.model_selection import train_test_split\n",
        "\n",
        "features = df[['gender', 'tenure', 'PhoneService', 'TotalCharges', 'StreamingMovies', 'StreamingTV', 'TechSupport']]\n",
        "target = df['Churn']\n",
        "\n",
        "X_train, X_test, y_train, y_test = train_test_split(features, target, \n",
        "                                                    test_size=0.25, \n",
        "                                                    shuffle=True, \n",
        "                                                    random_state=42)\n",
        "print(X_train.shape, y_train.shape)\n",
        "print(X_test.shape, y_test.shape)\n"
      ]
    },
    {
      "cell_type": "markdown",
      "metadata": {
        "id": "tL44KWnSKKD1"
      },
      "source": [
        "##### 10. соберите pipeline для поля gender (нужно разобраться и изучить https://scikit-learn.org/stable/modules/generated/sklearn.pipeline.Pipeline.html ) из классов ColumnSelector и OHEEncoder, которые уже написаны ниже заранее"
      ]
    },
    {
      "cell_type": "code",
      "execution_count": 12,
      "metadata": {
        "id": "76kb9W3XKKD1"
      },
      "outputs": [],
      "source": [
        "from sklearn.base import BaseEstimator, TransformerMixin\n",
        "from sklearn.pipeline import Pipeline\n",
        "\n",
        "class ColumnSelector(BaseEstimator, TransformerMixin):\n",
        "    \"\"\"\n",
        "    Transformer to select a single column from the data frame to perform additional transformations on\n",
        "    \"\"\"\n",
        "    def __init__(self, key):\n",
        "        self.key = key\n",
        "\n",
        "    def fit(self, X, y=None):\n",
        "        return self\n",
        "\n",
        "    def transform(self, X):\n",
        "        return X[self.key]\n",
        "    \n",
        "class NumberSelector(BaseEstimator, TransformerMixin):\n",
        "    \"\"\"\n",
        "    Transformer to select a single column from the data frame to perform additional transformations on\n",
        "    Use on numeric columns in the data\n",
        "    \"\"\"\n",
        "    def __init__(self, key):\n",
        "        self.key = key\n",
        "\n",
        "    def fit(self, X, y=None):\n",
        "        return self\n",
        "\n",
        "    def transform(self, X):\n",
        "        return X[[self.key]]\n",
        "    \n",
        "class OHEEncoder(BaseEstimator, TransformerMixin):\n",
        "    def __init__(self, key):\n",
        "        self.key = key\n",
        "        self.columns = []\n",
        "\n",
        "    def fit(self, X, y=None):\n",
        "        self.columns = [col for col in pd.get_dummies(X, prefix=self.key).columns]\n",
        "        return self\n",
        "\n",
        "    def transform(self, X):\n",
        "        X = pd.get_dummies(X, prefix=self.key)\n",
        "        test_columns = [col for col in X.columns]\n",
        "        for col_ in test_columns:\n",
        "            if col_ not in self.columns:\n",
        "                X[col_] = 0\n",
        "        return X[self.columns]\n",
        "\n",
        "gender = Pipeline([\n",
        "                ('selector', ColumnSelector(key='gender')),\n",
        "                ('ohe', OHEEncoder(key='gender'))\n",
        "            ])"
      ]
    },
    {
      "cell_type": "markdown",
      "metadata": {
        "id": "PFk68hUUKKD1"
      },
      "source": [
        "##### 11. Вызовите метод fit_transform у пайплайна gender и передайте туда нашу тренировочную выборку (пример по ссылке из документации https://scikit-learn.org/stable/modules/generated/sklearn.pipeline.Pipeline.html#sklearn.pipeline.Pipeline.fit)"
      ]
    },
    {
      "cell_type": "code",
      "execution_count": 13,
      "metadata": {
        "id": "b-BZwFLGKKD1"
      },
      "outputs": [
        {
          "data": {
            "text/html": [
              "<div>\n",
              "<style scoped>\n",
              "    .dataframe tbody tr th:only-of-type {\n",
              "        vertical-align: middle;\n",
              "    }\n",
              "\n",
              "    .dataframe tbody tr th {\n",
              "        vertical-align: top;\n",
              "    }\n",
              "\n",
              "    .dataframe thead th {\n",
              "        text-align: right;\n",
              "    }\n",
              "</style>\n",
              "<table border=\"1\" class=\"dataframe\">\n",
              "  <thead>\n",
              "    <tr style=\"text-align: right;\">\n",
              "      <th></th>\n",
              "      <th>gender_Female</th>\n",
              "      <th>gender_Male</th>\n",
              "    </tr>\n",
              "  </thead>\n",
              "  <tbody>\n",
              "    <tr>\n",
              "      <th>6607</th>\n",
              "      <td>0</td>\n",
              "      <td>1</td>\n",
              "    </tr>\n",
              "    <tr>\n",
              "      <th>2598</th>\n",
              "      <td>1</td>\n",
              "      <td>0</td>\n",
              "    </tr>\n",
              "    <tr>\n",
              "      <th>2345</th>\n",
              "      <td>1</td>\n",
              "      <td>0</td>\n",
              "    </tr>\n",
              "    <tr>\n",
              "      <th>4093</th>\n",
              "      <td>1</td>\n",
              "      <td>0</td>\n",
              "    </tr>\n",
              "    <tr>\n",
              "      <th>693</th>\n",
              "      <td>1</td>\n",
              "      <td>0</td>\n",
              "    </tr>\n",
              "    <tr>\n",
              "      <th>...</th>\n",
              "      <td>...</td>\n",
              "      <td>...</td>\n",
              "    </tr>\n",
              "    <tr>\n",
              "      <th>3772</th>\n",
              "      <td>0</td>\n",
              "      <td>1</td>\n",
              "    </tr>\n",
              "    <tr>\n",
              "      <th>5191</th>\n",
              "      <td>1</td>\n",
              "      <td>0</td>\n",
              "    </tr>\n",
              "    <tr>\n",
              "      <th>5226</th>\n",
              "      <td>0</td>\n",
              "      <td>1</td>\n",
              "    </tr>\n",
              "    <tr>\n",
              "      <th>5390</th>\n",
              "      <td>0</td>\n",
              "      <td>1</td>\n",
              "    </tr>\n",
              "    <tr>\n",
              "      <th>860</th>\n",
              "      <td>0</td>\n",
              "      <td>1</td>\n",
              "    </tr>\n",
              "  </tbody>\n",
              "</table>\n",
              "<p>5282 rows × 2 columns</p>\n",
              "</div>"
            ],
            "text/plain": [
              "      gender_Female  gender_Male\n",
              "6607              0            1\n",
              "2598              1            0\n",
              "2345              1            0\n",
              "4093              1            0\n",
              "693               1            0\n",
              "...             ...          ...\n",
              "3772              0            1\n",
              "5191              1            0\n",
              "5226              0            1\n",
              "5390              0            1\n",
              "860               0            1\n",
              "\n",
              "[5282 rows x 2 columns]"
            ]
          },
          "execution_count": 13,
          "metadata": {},
          "output_type": "execute_result"
        }
      ],
      "source": [
        "gender.fit_transform(X_train, y_train)\n"
      ]
    },
    {
      "cell_type": "markdown",
      "metadata": {
        "id": "Kr-FXWD2KKD1"
      },
      "source": [
        "##### 12. Здесь код писать уже не нужно (все сделано за вас). К полю tenure применяем StandardScaler (нормируем и центрируем). Ссылка - https://scikit-learn.org/stable/modules/generated/sklearn.preprocessing.StandardScaler.html\n",
        "Вопрос - в каких случаях это может быть полезно?"
      ]
    },
    {
      "cell_type": "code",
      "execution_count": 14,
      "metadata": {
        "id": "dL18IoGVKKD2"
      },
      "outputs": [],
      "source": [
        "from sklearn.preprocessing import StandardScaler\n",
        "\n",
        "tenure =  Pipeline([\n",
        "                ('selector', NumberSelector(key='tenure')),\n",
        "                ('standard', StandardScaler())\n",
        "            ])"
      ]
    },
    {
      "cell_type": "markdown",
      "metadata": {},
      "source": [
        "Это может быть полезно, если имеется большой разрыв в сисловых значениях признака. Один измеряется в десятках, другой в сотнях. Тогда для более корректной работы модели их лучше стандартизировать."
      ]
    },
    {
      "cell_type": "markdown",
      "metadata": {
        "id": "RYveM6ZDKKD2"
      },
      "source": [
        "##### 13. Напишите аналогичный (как для tenure) преобразователь поля TotalCharges"
      ]
    },
    {
      "cell_type": "code",
      "execution_count": 15,
      "metadata": {
        "id": "hDcqCDNTKKD2"
      },
      "outputs": [],
      "source": [
        "TotalCharges =  Pipeline([\n",
        "                ('selector', NumberSelector(key='TotalCharges')),\n",
        "                ('standard', StandardScaler())\n",
        "            ])\n"
      ]
    },
    {
      "cell_type": "markdown",
      "metadata": {
        "id": "-5wRfzU7KKD2"
      },
      "source": [
        "Объединение всех \"кубиков\" очень легко сделать таким образом"
      ]
    },
    {
      "cell_type": "code",
      "execution_count": 16,
      "metadata": {
        "id": "1UpLRJfuKKD2"
      },
      "outputs": [],
      "source": [
        "from sklearn.pipeline import FeatureUnion\n",
        "\n",
        "number_features = Pipeline([\n",
        "                ('selector', ColumnSelector(key=['PhoneService',\n",
        "                                                 'StreamingMovies', 'StreamingTV', \n",
        "                                                 'TechSupport']))\n",
        "            ])"
      ]
    },
    {
      "cell_type": "code",
      "execution_count": 17,
      "metadata": {
        "id": "ZpiN7jWBKKD2"
      },
      "outputs": [],
      "source": [
        "feats = FeatureUnion([('tenure', tenure),\n",
        "                      ('TotalCharges', TotalCharges),\n",
        "                      ('continuos_features', number_features),\n",
        "                      ('gender', gender)])\n",
        "feature_processing = Pipeline([('feats', feats)])"
      ]
    },
    {
      "cell_type": "markdown",
      "metadata": {
        "id": "sdFD8mC5KKD2"
      },
      "source": [
        "На этом этапе что мы сделали:\n",
        "1. написали преобразователь поля gender, который делает OHE кодирование\n",
        "2. написали преобразователь для поля tenure, который нормирует и центрирует его \n",
        "3. повторили п. 2 для поля TotalCharges\n",
        "3. для всех остальных просто взяли признаки как они есть, без изменений"
      ]
    },
    {
      "cell_type": "markdown",
      "metadata": {
        "id": "i322800wKKD4"
      },
      "source": [
        "У нас уже готов наш пайплайн, который преобразовывает признаки. Давайте обучим модель поверх него. В качестве модели возьмем RandomForestClassifier"
      ]
    },
    {
      "cell_type": "code",
      "execution_count": 18,
      "metadata": {
        "id": "wvA88DPmKKD4"
      },
      "outputs": [
        {
          "name": "stdout",
          "output_type": "stream",
          "text": [
            "Learning rate set to 0.020969\n",
            "0:\tlearn: 0.6814538\ttotal: 138ms\tremaining: 2m 17s\n",
            "1:\tlearn: 0.6708371\ttotal: 142ms\tremaining: 1m 10s\n",
            "2:\tlearn: 0.6604421\ttotal: 148ms\tremaining: 49.3s\n",
            "3:\tlearn: 0.6506378\ttotal: 152ms\tremaining: 37.8s\n",
            "4:\tlearn: 0.6417258\ttotal: 156ms\tremaining: 30.9s\n",
            "5:\tlearn: 0.6324506\ttotal: 163ms\tremaining: 26.9s\n",
            "6:\tlearn: 0.6243199\ttotal: 168ms\tremaining: 23.9s\n",
            "7:\tlearn: 0.6165421\ttotal: 175ms\tremaining: 21.7s\n",
            "8:\tlearn: 0.6088162\ttotal: 180ms\tremaining: 19.8s\n",
            "9:\tlearn: 0.6013883\ttotal: 187ms\tremaining: 18.5s\n",
            "10:\tlearn: 0.5943247\ttotal: 193ms\tremaining: 17.4s\n",
            "11:\tlearn: 0.5876983\ttotal: 199ms\tremaining: 16.4s\n",
            "12:\tlearn: 0.5817189\ttotal: 208ms\tremaining: 15.8s\n",
            "13:\tlearn: 0.5758539\ttotal: 212ms\tremaining: 14.9s\n",
            "14:\tlearn: 0.5701347\ttotal: 217ms\tremaining: 14.2s\n",
            "15:\tlearn: 0.5645875\ttotal: 222ms\tremaining: 13.7s\n",
            "16:\tlearn: 0.5591920\ttotal: 227ms\tremaining: 13.2s\n",
            "17:\tlearn: 0.5545841\ttotal: 233ms\tremaining: 12.7s\n",
            "18:\tlearn: 0.5497668\ttotal: 242ms\tremaining: 12.5s\n",
            "19:\tlearn: 0.5455964\ttotal: 248ms\tremaining: 12.2s\n",
            "20:\tlearn: 0.5416156\ttotal: 256ms\tremaining: 11.9s\n",
            "21:\tlearn: 0.5376970\ttotal: 262ms\tremaining: 11.7s\n",
            "22:\tlearn: 0.5335769\ttotal: 270ms\tremaining: 11.5s\n",
            "23:\tlearn: 0.5296787\ttotal: 275ms\tremaining: 11.2s\n",
            "24:\tlearn: 0.5263652\ttotal: 283ms\tremaining: 11s\n",
            "25:\tlearn: 0.5244528\ttotal: 287ms\tremaining: 10.8s\n",
            "26:\tlearn: 0.5221920\ttotal: 292ms\tremaining: 10.5s\n",
            "27:\tlearn: 0.5193014\ttotal: 300ms\tremaining: 10.4s\n",
            "28:\tlearn: 0.5166181\ttotal: 305ms\tremaining: 10.2s\n",
            "29:\tlearn: 0.5136749\ttotal: 311ms\tremaining: 10.1s\n",
            "30:\tlearn: 0.5110528\ttotal: 318ms\tremaining: 9.95s\n",
            "31:\tlearn: 0.5085750\ttotal: 324ms\tremaining: 9.79s\n",
            "32:\tlearn: 0.5066532\ttotal: 330ms\tremaining: 9.67s\n",
            "33:\tlearn: 0.5044072\ttotal: 335ms\tremaining: 9.53s\n",
            "34:\tlearn: 0.5020981\ttotal: 342ms\tremaining: 9.43s\n",
            "35:\tlearn: 0.4996813\ttotal: 350ms\tremaining: 9.36s\n",
            "36:\tlearn: 0.4976726\ttotal: 356ms\tremaining: 9.25s\n",
            "37:\tlearn: 0.4958585\ttotal: 364ms\tremaining: 9.2s\n",
            "38:\tlearn: 0.4941417\ttotal: 371ms\tremaining: 9.15s\n",
            "39:\tlearn: 0.4923875\ttotal: 379ms\tremaining: 9.09s\n",
            "40:\tlearn: 0.4905000\ttotal: 386ms\tremaining: 9.02s\n",
            "41:\tlearn: 0.4895489\ttotal: 391ms\tremaining: 8.91s\n",
            "42:\tlearn: 0.4883876\ttotal: 396ms\tremaining: 8.81s\n",
            "43:\tlearn: 0.4869370\ttotal: 403ms\tremaining: 8.76s\n",
            "44:\tlearn: 0.4852345\ttotal: 414ms\tremaining: 8.78s\n",
            "45:\tlearn: 0.4837955\ttotal: 420ms\tremaining: 8.71s\n",
            "46:\tlearn: 0.4825518\ttotal: 429ms\tremaining: 8.71s\n",
            "47:\tlearn: 0.4813018\ttotal: 435ms\tremaining: 8.63s\n",
            "48:\tlearn: 0.4798490\ttotal: 442ms\tremaining: 8.58s\n",
            "49:\tlearn: 0.4785505\ttotal: 448ms\tremaining: 8.5s\n",
            "50:\tlearn: 0.4775895\ttotal: 452ms\tremaining: 8.41s\n",
            "51:\tlearn: 0.4762796\ttotal: 461ms\tremaining: 8.41s\n",
            "52:\tlearn: 0.4753203\ttotal: 467ms\tremaining: 8.35s\n",
            "53:\tlearn: 0.4743399\ttotal: 475ms\tremaining: 8.32s\n",
            "54:\tlearn: 0.4732872\ttotal: 480ms\tremaining: 8.25s\n",
            "55:\tlearn: 0.4723527\ttotal: 486ms\tremaining: 8.2s\n",
            "56:\tlearn: 0.4715769\ttotal: 492ms\tremaining: 8.14s\n",
            "57:\tlearn: 0.4704390\ttotal: 498ms\tremaining: 8.09s\n",
            "58:\tlearn: 0.4696509\ttotal: 506ms\tremaining: 8.07s\n",
            "59:\tlearn: 0.4688590\ttotal: 521ms\tremaining: 8.16s\n",
            "60:\tlearn: 0.4678648\ttotal: 527ms\tremaining: 8.11s\n",
            "61:\tlearn: 0.4670679\ttotal: 532ms\tremaining: 8.05s\n",
            "62:\tlearn: 0.4662680\ttotal: 539ms\tremaining: 8.01s\n",
            "63:\tlearn: 0.4655405\ttotal: 542ms\tremaining: 7.93s\n",
            "64:\tlearn: 0.4651232\ttotal: 545ms\tremaining: 7.84s\n",
            "65:\tlearn: 0.4645797\ttotal: 550ms\tremaining: 7.78s\n",
            "66:\tlearn: 0.4638933\ttotal: 554ms\tremaining: 7.72s\n",
            "67:\tlearn: 0.4632166\ttotal: 558ms\tremaining: 7.64s\n",
            "68:\tlearn: 0.4626604\ttotal: 561ms\tremaining: 7.57s\n",
            "69:\tlearn: 0.4618802\ttotal: 565ms\tremaining: 7.5s\n",
            "70:\tlearn: 0.4612988\ttotal: 569ms\tremaining: 7.44s\n",
            "71:\tlearn: 0.4608049\ttotal: 573ms\tremaining: 7.38s\n",
            "72:\tlearn: 0.4600628\ttotal: 577ms\tremaining: 7.32s\n",
            "73:\tlearn: 0.4594242\ttotal: 583ms\tremaining: 7.29s\n",
            "74:\tlearn: 0.4588945\ttotal: 587ms\tremaining: 7.23s\n",
            "75:\tlearn: 0.4584932\ttotal: 590ms\tremaining: 7.17s\n",
            "76:\tlearn: 0.4578700\ttotal: 593ms\tremaining: 7.11s\n",
            "77:\tlearn: 0.4573209\ttotal: 596ms\tremaining: 7.04s\n",
            "78:\tlearn: 0.4567602\ttotal: 601ms\tremaining: 7s\n",
            "79:\tlearn: 0.4562867\ttotal: 604ms\tremaining: 6.94s\n",
            "80:\tlearn: 0.4557606\ttotal: 607ms\tremaining: 6.88s\n",
            "81:\tlearn: 0.4554134\ttotal: 610ms\tremaining: 6.82s\n",
            "82:\tlearn: 0.4549153\ttotal: 615ms\tremaining: 6.79s\n",
            "83:\tlearn: 0.4544134\ttotal: 618ms\tremaining: 6.74s\n",
            "84:\tlearn: 0.4540357\ttotal: 621ms\tremaining: 6.69s\n",
            "85:\tlearn: 0.4535500\ttotal: 624ms\tremaining: 6.63s\n",
            "86:\tlearn: 0.4531608\ttotal: 627ms\tremaining: 6.58s\n",
            "87:\tlearn: 0.4529137\ttotal: 631ms\tremaining: 6.54s\n",
            "88:\tlearn: 0.4524627\ttotal: 636ms\tremaining: 6.51s\n",
            "89:\tlearn: 0.4521572\ttotal: 639ms\tremaining: 6.46s\n",
            "90:\tlearn: 0.4516953\ttotal: 642ms\tremaining: 6.42s\n",
            "91:\tlearn: 0.4512930\ttotal: 647ms\tremaining: 6.38s\n",
            "92:\tlearn: 0.4509757\ttotal: 650ms\tremaining: 6.34s\n",
            "93:\tlearn: 0.4506162\ttotal: 654ms\tremaining: 6.3s\n",
            "94:\tlearn: 0.4502452\ttotal: 657ms\tremaining: 6.26s\n",
            "95:\tlearn: 0.4497978\ttotal: 661ms\tremaining: 6.22s\n",
            "96:\tlearn: 0.4495614\ttotal: 665ms\tremaining: 6.19s\n",
            "97:\tlearn: 0.4493989\ttotal: 668ms\tremaining: 6.15s\n",
            "98:\tlearn: 0.4491987\ttotal: 671ms\tremaining: 6.11s\n",
            "99:\tlearn: 0.4488483\ttotal: 674ms\tremaining: 6.07s\n",
            "100:\tlearn: 0.4488245\ttotal: 677ms\tremaining: 6.02s\n",
            "101:\tlearn: 0.4485355\ttotal: 680ms\tremaining: 5.98s\n",
            "102:\tlearn: 0.4481919\ttotal: 683ms\tremaining: 5.95s\n",
            "103:\tlearn: 0.4478873\ttotal: 686ms\tremaining: 5.91s\n",
            "104:\tlearn: 0.4476114\ttotal: 689ms\tremaining: 5.87s\n",
            "105:\tlearn: 0.4473500\ttotal: 694ms\tremaining: 5.85s\n",
            "106:\tlearn: 0.4471779\ttotal: 697ms\tremaining: 5.82s\n",
            "107:\tlearn: 0.4468311\ttotal: 700ms\tremaining: 5.78s\n",
            "108:\tlearn: 0.4465059\ttotal: 703ms\tremaining: 5.75s\n",
            "109:\tlearn: 0.4462063\ttotal: 707ms\tremaining: 5.72s\n",
            "110:\tlearn: 0.4459095\ttotal: 712ms\tremaining: 5.7s\n",
            "111:\tlearn: 0.4455784\ttotal: 716ms\tremaining: 5.68s\n",
            "112:\tlearn: 0.4453372\ttotal: 720ms\tremaining: 5.65s\n",
            "113:\tlearn: 0.4451261\ttotal: 727ms\tremaining: 5.65s\n",
            "114:\tlearn: 0.4449135\ttotal: 731ms\tremaining: 5.63s\n",
            "115:\tlearn: 0.4446179\ttotal: 735ms\tremaining: 5.6s\n",
            "116:\tlearn: 0.4443560\ttotal: 740ms\tremaining: 5.58s\n",
            "117:\tlearn: 0.4443282\ttotal: 742ms\tremaining: 5.55s\n",
            "118:\tlearn: 0.4439959\ttotal: 746ms\tremaining: 5.52s\n",
            "119:\tlearn: 0.4438027\ttotal: 749ms\tremaining: 5.5s\n",
            "120:\tlearn: 0.4435199\ttotal: 753ms\tremaining: 5.47s\n",
            "121:\tlearn: 0.4433238\ttotal: 758ms\tremaining: 5.45s\n",
            "122:\tlearn: 0.4430336\ttotal: 761ms\tremaining: 5.42s\n",
            "123:\tlearn: 0.4428342\ttotal: 764ms\tremaining: 5.4s\n",
            "124:\tlearn: 0.4425629\ttotal: 768ms\tremaining: 5.37s\n",
            "125:\tlearn: 0.4423144\ttotal: 772ms\tremaining: 5.36s\n",
            "126:\tlearn: 0.4420904\ttotal: 775ms\tremaining: 5.33s\n",
            "127:\tlearn: 0.4420172\ttotal: 779ms\tremaining: 5.31s\n",
            "128:\tlearn: 0.4418154\ttotal: 782ms\tremaining: 5.28s\n",
            "129:\tlearn: 0.4414460\ttotal: 786ms\tremaining: 5.26s\n",
            "130:\tlearn: 0.4411930\ttotal: 789ms\tremaining: 5.24s\n",
            "131:\tlearn: 0.4409295\ttotal: 793ms\tremaining: 5.21s\n",
            "132:\tlearn: 0.4407381\ttotal: 796ms\tremaining: 5.19s\n",
            "133:\tlearn: 0.4406381\ttotal: 799ms\tremaining: 5.16s\n",
            "134:\tlearn: 0.4404655\ttotal: 803ms\tremaining: 5.14s\n",
            "135:\tlearn: 0.4402919\ttotal: 806ms\tremaining: 5.12s\n",
            "136:\tlearn: 0.4401438\ttotal: 809ms\tremaining: 5.1s\n",
            "137:\tlearn: 0.4399973\ttotal: 812ms\tremaining: 5.07s\n",
            "138:\tlearn: 0.4397975\ttotal: 815ms\tremaining: 5.05s\n",
            "139:\tlearn: 0.4395772\ttotal: 819ms\tremaining: 5.03s\n",
            "140:\tlearn: 0.4392920\ttotal: 823ms\tremaining: 5.01s\n",
            "141:\tlearn: 0.4391701\ttotal: 826ms\tremaining: 4.99s\n",
            "142:\tlearn: 0.4390498\ttotal: 829ms\tremaining: 4.96s\n",
            "143:\tlearn: 0.4389009\ttotal: 831ms\tremaining: 4.94s\n",
            "144:\tlearn: 0.4387471\ttotal: 836ms\tremaining: 4.93s\n",
            "145:\tlearn: 0.4386252\ttotal: 839ms\tremaining: 4.91s\n",
            "146:\tlearn: 0.4385040\ttotal: 842ms\tremaining: 4.88s\n",
            "147:\tlearn: 0.4383726\ttotal: 845ms\tremaining: 4.86s\n",
            "148:\tlearn: 0.4381966\ttotal: 848ms\tremaining: 4.84s\n",
            "149:\tlearn: 0.4380650\ttotal: 852ms\tremaining: 4.83s\n",
            "150:\tlearn: 0.4379233\ttotal: 855ms\tremaining: 4.81s\n",
            "151:\tlearn: 0.4377637\ttotal: 858ms\tremaining: 4.79s\n",
            "152:\tlearn: 0.4375705\ttotal: 861ms\tremaining: 4.76s\n",
            "153:\tlearn: 0.4374144\ttotal: 864ms\tremaining: 4.74s\n",
            "154:\tlearn: 0.4372028\ttotal: 868ms\tremaining: 4.73s\n",
            "155:\tlearn: 0.4370071\ttotal: 871ms\tremaining: 4.71s\n",
            "156:\tlearn: 0.4368358\ttotal: 874ms\tremaining: 4.7s\n",
            "157:\tlearn: 0.4366731\ttotal: 877ms\tremaining: 4.68s\n",
            "158:\tlearn: 0.4366565\ttotal: 879ms\tremaining: 4.65s\n",
            "159:\tlearn: 0.4364468\ttotal: 883ms\tremaining: 4.64s\n",
            "160:\tlearn: 0.4362644\ttotal: 887ms\tremaining: 4.62s\n",
            "161:\tlearn: 0.4361392\ttotal: 890ms\tremaining: 4.6s\n",
            "162:\tlearn: 0.4360324\ttotal: 893ms\tremaining: 4.58s\n",
            "163:\tlearn: 0.4358563\ttotal: 896ms\tremaining: 4.57s\n",
            "164:\tlearn: 0.4356445\ttotal: 900ms\tremaining: 4.55s\n",
            "165:\tlearn: 0.4354685\ttotal: 903ms\tremaining: 4.54s\n",
            "166:\tlearn: 0.4353289\ttotal: 906ms\tremaining: 4.52s\n",
            "167:\tlearn: 0.4351990\ttotal: 909ms\tremaining: 4.5s\n",
            "168:\tlearn: 0.4349895\ttotal: 913ms\tremaining: 4.49s\n",
            "169:\tlearn: 0.4347630\ttotal: 917ms\tremaining: 4.48s\n",
            "170:\tlearn: 0.4346801\ttotal: 921ms\tremaining: 4.46s\n",
            "171:\tlearn: 0.4346317\ttotal: 924ms\tremaining: 4.45s\n",
            "172:\tlearn: 0.4344665\ttotal: 928ms\tremaining: 4.43s\n",
            "173:\tlearn: 0.4343516\ttotal: 932ms\tremaining: 4.43s\n",
            "174:\tlearn: 0.4342311\ttotal: 937ms\tremaining: 4.42s\n",
            "175:\tlearn: 0.4341066\ttotal: 940ms\tremaining: 4.4s\n",
            "176:\tlearn: 0.4339585\ttotal: 944ms\tremaining: 4.39s\n",
            "177:\tlearn: 0.4338249\ttotal: 949ms\tremaining: 4.38s\n",
            "178:\tlearn: 0.4336462\ttotal: 952ms\tremaining: 4.37s\n",
            "179:\tlearn: 0.4335018\ttotal: 955ms\tremaining: 4.35s\n",
            "180:\tlearn: 0.4333672\ttotal: 957ms\tremaining: 4.33s\n",
            "181:\tlearn: 0.4332106\ttotal: 962ms\tremaining: 4.32s\n",
            "182:\tlearn: 0.4331018\ttotal: 965ms\tremaining: 4.31s\n",
            "183:\tlearn: 0.4330341\ttotal: 968ms\tremaining: 4.29s\n",
            "184:\tlearn: 0.4328582\ttotal: 971ms\tremaining: 4.28s\n",
            "185:\tlearn: 0.4326685\ttotal: 973ms\tremaining: 4.26s\n",
            "186:\tlearn: 0.4325510\ttotal: 978ms\tremaining: 4.25s\n",
            "187:\tlearn: 0.4324122\ttotal: 983ms\tremaining: 4.24s\n",
            "188:\tlearn: 0.4322811\ttotal: 986ms\tremaining: 4.23s\n",
            "189:\tlearn: 0.4321743\ttotal: 990ms\tremaining: 4.22s\n",
            "190:\tlearn: 0.4320038\ttotal: 994ms\tremaining: 4.21s\n",
            "191:\tlearn: 0.4318480\ttotal: 997ms\tremaining: 4.2s\n",
            "192:\tlearn: 0.4317547\ttotal: 1s\tremaining: 4.18s\n",
            "193:\tlearn: 0.4316879\ttotal: 1s\tremaining: 4.17s\n",
            "194:\tlearn: 0.4315823\ttotal: 1.01s\tremaining: 4.15s\n",
            "195:\tlearn: 0.4315093\ttotal: 1.01s\tremaining: 4.14s\n",
            "196:\tlearn: 0.4313808\ttotal: 1.01s\tremaining: 4.13s\n",
            "197:\tlearn: 0.4312843\ttotal: 1.02s\tremaining: 4.12s\n",
            "198:\tlearn: 0.4311606\ttotal: 1.02s\tremaining: 4.1s\n",
            "199:\tlearn: 0.4310595\ttotal: 1.02s\tremaining: 4.09s\n",
            "200:\tlearn: 0.4309472\ttotal: 1.03s\tremaining: 4.08s\n",
            "201:\tlearn: 0.4307320\ttotal: 1.03s\tremaining: 4.07s\n",
            "202:\tlearn: 0.4306254\ttotal: 1.03s\tremaining: 4.05s\n",
            "203:\tlearn: 0.4304426\ttotal: 1.03s\tremaining: 4.04s\n",
            "204:\tlearn: 0.4303366\ttotal: 1.04s\tremaining: 4.03s\n",
            "205:\tlearn: 0.4302312\ttotal: 1.04s\tremaining: 4.02s\n",
            "206:\tlearn: 0.4301148\ttotal: 1.05s\tremaining: 4.01s\n",
            "207:\tlearn: 0.4299640\ttotal: 1.05s\tremaining: 3.99s\n",
            "208:\tlearn: 0.4298981\ttotal: 1.05s\tremaining: 3.98s\n",
            "209:\tlearn: 0.4297665\ttotal: 1.06s\tremaining: 3.97s\n",
            "210:\tlearn: 0.4296731\ttotal: 1.06s\tremaining: 3.96s\n",
            "211:\tlearn: 0.4295356\ttotal: 1.06s\tremaining: 3.95s\n",
            "212:\tlearn: 0.4294367\ttotal: 1.06s\tremaining: 3.94s\n",
            "213:\tlearn: 0.4292825\ttotal: 1.07s\tremaining: 3.93s\n",
            "214:\tlearn: 0.4291699\ttotal: 1.07s\tremaining: 3.92s\n",
            "215:\tlearn: 0.4290059\ttotal: 1.08s\tremaining: 3.91s\n",
            "216:\tlearn: 0.4288774\ttotal: 1.08s\tremaining: 3.9s\n",
            "217:\tlearn: 0.4287724\ttotal: 1.08s\tremaining: 3.88s\n",
            "218:\tlearn: 0.4287033\ttotal: 1.08s\tremaining: 3.87s\n",
            "219:\tlearn: 0.4285971\ttotal: 1.09s\tremaining: 3.86s\n",
            "220:\tlearn: 0.4285097\ttotal: 1.09s\tremaining: 3.85s\n",
            "221:\tlearn: 0.4284396\ttotal: 1.1s\tremaining: 3.84s\n",
            "222:\tlearn: 0.4283687\ttotal: 1.1s\tremaining: 3.83s\n",
            "223:\tlearn: 0.4282681\ttotal: 1.1s\tremaining: 3.82s\n",
            "224:\tlearn: 0.4281540\ttotal: 1.11s\tremaining: 3.82s\n",
            "225:\tlearn: 0.4280565\ttotal: 1.11s\tremaining: 3.81s\n",
            "226:\tlearn: 0.4279832\ttotal: 1.12s\tremaining: 3.81s\n",
            "227:\tlearn: 0.4278807\ttotal: 1.12s\tremaining: 3.8s\n",
            "228:\tlearn: 0.4277749\ttotal: 1.13s\tremaining: 3.79s\n",
            "229:\tlearn: 0.4276256\ttotal: 1.13s\tremaining: 3.79s\n",
            "230:\tlearn: 0.4275986\ttotal: 1.14s\tremaining: 3.78s\n",
            "231:\tlearn: 0.4275274\ttotal: 1.14s\tremaining: 3.77s\n",
            "232:\tlearn: 0.4274649\ttotal: 1.14s\tremaining: 3.76s\n",
            "233:\tlearn: 0.4273560\ttotal: 1.15s\tremaining: 3.75s\n",
            "234:\tlearn: 0.4272867\ttotal: 1.15s\tremaining: 3.75s\n",
            "235:\tlearn: 0.4271170\ttotal: 1.16s\tremaining: 3.75s\n",
            "236:\tlearn: 0.4270826\ttotal: 1.16s\tremaining: 3.74s\n",
            "237:\tlearn: 0.4270219\ttotal: 1.17s\tremaining: 3.73s\n",
            "238:\tlearn: 0.4269594\ttotal: 1.17s\tremaining: 3.72s\n",
            "239:\tlearn: 0.4268013\ttotal: 1.17s\tremaining: 3.71s\n",
            "240:\tlearn: 0.4266741\ttotal: 1.18s\tremaining: 3.71s\n",
            "241:\tlearn: 0.4265921\ttotal: 1.18s\tremaining: 3.7s\n",
            "242:\tlearn: 0.4264508\ttotal: 1.19s\tremaining: 3.69s\n",
            "243:\tlearn: 0.4263185\ttotal: 1.19s\tremaining: 3.69s\n",
            "244:\tlearn: 0.4262216\ttotal: 1.19s\tremaining: 3.68s\n",
            "245:\tlearn: 0.4261143\ttotal: 1.2s\tremaining: 3.67s\n",
            "246:\tlearn: 0.4259588\ttotal: 1.2s\tremaining: 3.67s\n",
            "247:\tlearn: 0.4258741\ttotal: 1.21s\tremaining: 3.66s\n",
            "248:\tlearn: 0.4257974\ttotal: 1.21s\tremaining: 3.66s\n",
            "249:\tlearn: 0.4256967\ttotal: 1.22s\tremaining: 3.65s\n",
            "250:\tlearn: 0.4255721\ttotal: 1.22s\tremaining: 3.65s\n",
            "251:\tlearn: 0.4254299\ttotal: 1.23s\tremaining: 3.64s\n",
            "252:\tlearn: 0.4253470\ttotal: 1.23s\tremaining: 3.64s\n",
            "253:\tlearn: 0.4252813\ttotal: 1.24s\tremaining: 3.63s\n",
            "254:\tlearn: 0.4251379\ttotal: 1.24s\tremaining: 3.63s\n",
            "255:\tlearn: 0.4250788\ttotal: 1.25s\tremaining: 3.62s\n",
            "256:\tlearn: 0.4249646\ttotal: 1.25s\tremaining: 3.61s\n",
            "257:\tlearn: 0.4249314\ttotal: 1.25s\tremaining: 3.6s\n",
            "258:\tlearn: 0.4248754\ttotal: 1.25s\tremaining: 3.59s\n",
            "259:\tlearn: 0.4247698\ttotal: 1.26s\tremaining: 3.58s\n",
            "260:\tlearn: 0.4247117\ttotal: 1.26s\tremaining: 3.57s\n",
            "261:\tlearn: 0.4245966\ttotal: 1.26s\tremaining: 3.56s\n",
            "262:\tlearn: 0.4244968\ttotal: 1.27s\tremaining: 3.55s\n",
            "263:\tlearn: 0.4244230\ttotal: 1.27s\tremaining: 3.54s\n",
            "264:\tlearn: 0.4243156\ttotal: 1.27s\tremaining: 3.54s\n",
            "265:\tlearn: 0.4241891\ttotal: 1.28s\tremaining: 3.53s\n",
            "266:\tlearn: 0.4241142\ttotal: 1.28s\tremaining: 3.52s\n",
            "267:\tlearn: 0.4240435\ttotal: 1.29s\tremaining: 3.51s\n",
            "268:\tlearn: 0.4239805\ttotal: 1.29s\tremaining: 3.51s\n",
            "269:\tlearn: 0.4238596\ttotal: 1.29s\tremaining: 3.5s\n",
            "270:\tlearn: 0.4237558\ttotal: 1.3s\tremaining: 3.5s\n",
            "271:\tlearn: 0.4237038\ttotal: 1.3s\tremaining: 3.49s\n",
            "272:\tlearn: 0.4236091\ttotal: 1.31s\tremaining: 3.48s\n",
            "273:\tlearn: 0.4235306\ttotal: 1.31s\tremaining: 3.48s\n",
            "274:\tlearn: 0.4234384\ttotal: 1.32s\tremaining: 3.47s\n",
            "275:\tlearn: 0.4233719\ttotal: 1.32s\tremaining: 3.46s\n",
            "276:\tlearn: 0.4232970\ttotal: 1.32s\tremaining: 3.45s\n",
            "277:\tlearn: 0.4231563\ttotal: 1.33s\tremaining: 3.45s\n",
            "278:\tlearn: 0.4230676\ttotal: 1.33s\tremaining: 3.44s\n",
            "279:\tlearn: 0.4229584\ttotal: 1.33s\tremaining: 3.43s\n",
            "280:\tlearn: 0.4228699\ttotal: 1.34s\tremaining: 3.42s\n",
            "281:\tlearn: 0.4227570\ttotal: 1.34s\tremaining: 3.41s\n",
            "282:\tlearn: 0.4226978\ttotal: 1.34s\tremaining: 3.4s\n",
            "283:\tlearn: 0.4226310\ttotal: 1.35s\tremaining: 3.4s\n",
            "284:\tlearn: 0.4225579\ttotal: 1.35s\tremaining: 3.39s\n",
            "285:\tlearn: 0.4224592\ttotal: 1.35s\tremaining: 3.38s\n",
            "286:\tlearn: 0.4223191\ttotal: 1.36s\tremaining: 3.37s\n",
            "287:\tlearn: 0.4222185\ttotal: 1.36s\tremaining: 3.36s\n",
            "288:\tlearn: 0.4221497\ttotal: 1.36s\tremaining: 3.35s\n",
            "289:\tlearn: 0.4221008\ttotal: 1.37s\tremaining: 3.35s\n",
            "290:\tlearn: 0.4220154\ttotal: 1.37s\tremaining: 3.34s\n",
            "291:\tlearn: 0.4219403\ttotal: 1.38s\tremaining: 3.33s\n",
            "292:\tlearn: 0.4218925\ttotal: 1.38s\tremaining: 3.33s\n",
            "293:\tlearn: 0.4217908\ttotal: 1.38s\tremaining: 3.32s\n",
            "294:\tlearn: 0.4216849\ttotal: 1.38s\tremaining: 3.31s\n",
            "295:\tlearn: 0.4215127\ttotal: 1.39s\tremaining: 3.31s\n",
            "296:\tlearn: 0.4214182\ttotal: 1.39s\tremaining: 3.3s\n",
            "297:\tlearn: 0.4213248\ttotal: 1.4s\tremaining: 3.29s\n",
            "298:\tlearn: 0.4212277\ttotal: 1.4s\tremaining: 3.28s\n",
            "299:\tlearn: 0.4211686\ttotal: 1.41s\tremaining: 3.28s\n",
            "300:\tlearn: 0.4211081\ttotal: 1.41s\tremaining: 3.28s\n",
            "301:\tlearn: 0.4210210\ttotal: 1.41s\tremaining: 3.27s\n",
            "302:\tlearn: 0.4209407\ttotal: 1.42s\tremaining: 3.27s\n",
            "303:\tlearn: 0.4209021\ttotal: 1.42s\tremaining: 3.26s\n",
            "304:\tlearn: 0.4207549\ttotal: 1.43s\tremaining: 3.25s\n",
            "305:\tlearn: 0.4206480\ttotal: 1.43s\tremaining: 3.25s\n",
            "306:\tlearn: 0.4205671\ttotal: 1.44s\tremaining: 3.24s\n",
            "307:\tlearn: 0.4204081\ttotal: 1.44s\tremaining: 3.23s\n",
            "308:\tlearn: 0.4203141\ttotal: 1.44s\tremaining: 3.23s\n",
            "309:\tlearn: 0.4202773\ttotal: 1.45s\tremaining: 3.22s\n",
            "310:\tlearn: 0.4202173\ttotal: 1.45s\tremaining: 3.22s\n",
            "311:\tlearn: 0.4201427\ttotal: 1.46s\tremaining: 3.21s\n",
            "312:\tlearn: 0.4200694\ttotal: 1.46s\tremaining: 3.21s\n",
            "313:\tlearn: 0.4199894\ttotal: 1.47s\tremaining: 3.21s\n",
            "314:\tlearn: 0.4198547\ttotal: 1.47s\tremaining: 3.2s\n",
            "315:\tlearn: 0.4198443\ttotal: 1.47s\tremaining: 3.19s\n",
            "316:\tlearn: 0.4197952\ttotal: 1.48s\tremaining: 3.18s\n",
            "317:\tlearn: 0.4197320\ttotal: 1.48s\tremaining: 3.17s\n",
            "318:\tlearn: 0.4196683\ttotal: 1.49s\tremaining: 3.17s\n",
            "319:\tlearn: 0.4195864\ttotal: 1.49s\tremaining: 3.17s\n",
            "320:\tlearn: 0.4195353\ttotal: 1.49s\tremaining: 3.16s\n",
            "321:\tlearn: 0.4194612\ttotal: 1.5s\tremaining: 3.15s\n",
            "322:\tlearn: 0.4194103\ttotal: 1.5s\tremaining: 3.15s\n",
            "323:\tlearn: 0.4193646\ttotal: 1.5s\tremaining: 3.14s\n",
            "324:\tlearn: 0.4193015\ttotal: 1.51s\tremaining: 3.13s\n",
            "325:\tlearn: 0.4192588\ttotal: 1.51s\tremaining: 3.13s\n",
            "326:\tlearn: 0.4191869\ttotal: 1.52s\tremaining: 3.13s\n",
            "327:\tlearn: 0.4190695\ttotal: 1.52s\tremaining: 3.12s\n",
            "328:\tlearn: 0.4189928\ttotal: 1.53s\tremaining: 3.11s\n",
            "329:\tlearn: 0.4189271\ttotal: 1.53s\tremaining: 3.11s\n",
            "330:\tlearn: 0.4187588\ttotal: 1.53s\tremaining: 3.1s\n",
            "331:\tlearn: 0.4186799\ttotal: 1.54s\tremaining: 3.1s\n",
            "332:\tlearn: 0.4186251\ttotal: 1.54s\tremaining: 3.09s\n",
            "333:\tlearn: 0.4185960\ttotal: 1.54s\tremaining: 3.08s\n",
            "334:\tlearn: 0.4184853\ttotal: 1.55s\tremaining: 3.08s\n",
            "335:\tlearn: 0.4183272\ttotal: 1.55s\tremaining: 3.07s\n",
            "336:\tlearn: 0.4182811\ttotal: 1.56s\tremaining: 3.06s\n",
            "337:\tlearn: 0.4182304\ttotal: 1.56s\tremaining: 3.05s\n",
            "338:\tlearn: 0.4181099\ttotal: 1.56s\tremaining: 3.05s\n",
            "339:\tlearn: 0.4179677\ttotal: 1.57s\tremaining: 3.04s\n",
            "340:\tlearn: 0.4179198\ttotal: 1.57s\tremaining: 3.04s\n",
            "341:\tlearn: 0.4178777\ttotal: 1.57s\tremaining: 3.03s\n",
            "342:\tlearn: 0.4178060\ttotal: 1.58s\tremaining: 3.02s\n",
            "343:\tlearn: 0.4177153\ttotal: 1.58s\tremaining: 3.02s\n",
            "344:\tlearn: 0.4176808\ttotal: 1.58s\tremaining: 3.01s\n",
            "345:\tlearn: 0.4175682\ttotal: 1.59s\tremaining: 3s\n",
            "346:\tlearn: 0.4174923\ttotal: 1.59s\tremaining: 3s\n",
            "347:\tlearn: 0.4173691\ttotal: 1.6s\tremaining: 2.99s\n",
            "348:\tlearn: 0.4173096\ttotal: 1.6s\tremaining: 2.99s\n",
            "349:\tlearn: 0.4172676\ttotal: 1.6s\tremaining: 2.98s\n",
            "350:\tlearn: 0.4171666\ttotal: 1.61s\tremaining: 2.98s\n",
            "351:\tlearn: 0.4170755\ttotal: 1.61s\tremaining: 2.97s\n",
            "352:\tlearn: 0.4169742\ttotal: 1.62s\tremaining: 2.97s\n",
            "353:\tlearn: 0.4168858\ttotal: 1.62s\tremaining: 2.96s\n",
            "354:\tlearn: 0.4168710\ttotal: 1.63s\tremaining: 2.95s\n",
            "355:\tlearn: 0.4168059\ttotal: 1.63s\tremaining: 2.95s\n",
            "356:\tlearn: 0.4167231\ttotal: 1.63s\tremaining: 2.94s\n",
            "357:\tlearn: 0.4166702\ttotal: 1.64s\tremaining: 2.93s\n",
            "358:\tlearn: 0.4165910\ttotal: 1.64s\tremaining: 2.93s\n",
            "359:\tlearn: 0.4165489\ttotal: 1.64s\tremaining: 2.92s\n",
            "360:\tlearn: 0.4164548\ttotal: 1.65s\tremaining: 2.92s\n",
            "361:\tlearn: 0.4164077\ttotal: 1.65s\tremaining: 2.91s\n",
            "362:\tlearn: 0.4162864\ttotal: 1.66s\tremaining: 2.91s\n",
            "363:\tlearn: 0.4162321\ttotal: 1.66s\tremaining: 2.9s\n",
            "364:\tlearn: 0.4162070\ttotal: 1.67s\tremaining: 2.9s\n",
            "365:\tlearn: 0.4160881\ttotal: 1.67s\tremaining: 2.89s\n",
            "366:\tlearn: 0.4160331\ttotal: 1.67s\tremaining: 2.89s\n",
            "367:\tlearn: 0.4158985\ttotal: 1.68s\tremaining: 2.88s\n",
            "368:\tlearn: 0.4158027\ttotal: 1.68s\tremaining: 2.87s\n",
            "369:\tlearn: 0.4157292\ttotal: 1.68s\tremaining: 2.87s\n",
            "370:\tlearn: 0.4156602\ttotal: 1.69s\tremaining: 2.87s\n",
            "371:\tlearn: 0.4156037\ttotal: 1.7s\tremaining: 2.86s\n",
            "372:\tlearn: 0.4155638\ttotal: 1.7s\tremaining: 2.86s\n",
            "373:\tlearn: 0.4155098\ttotal: 1.71s\tremaining: 2.85s\n",
            "374:\tlearn: 0.4154589\ttotal: 1.71s\tremaining: 2.85s\n",
            "375:\tlearn: 0.4153798\ttotal: 1.71s\tremaining: 2.84s\n",
            "376:\tlearn: 0.4153250\ttotal: 1.72s\tremaining: 2.83s\n",
            "377:\tlearn: 0.4152762\ttotal: 1.72s\tremaining: 2.83s\n",
            "378:\tlearn: 0.4151471\ttotal: 1.72s\tremaining: 2.82s\n",
            "379:\tlearn: 0.4150635\ttotal: 1.73s\tremaining: 2.82s\n",
            "380:\tlearn: 0.4149717\ttotal: 1.73s\tremaining: 2.81s\n",
            "381:\tlearn: 0.4149133\ttotal: 1.73s\tremaining: 2.8s\n",
            "382:\tlearn: 0.4148625\ttotal: 1.74s\tremaining: 2.8s\n",
            "383:\tlearn: 0.4147107\ttotal: 1.74s\tremaining: 2.79s\n",
            "384:\tlearn: 0.4146730\ttotal: 1.74s\tremaining: 2.78s\n",
            "385:\tlearn: 0.4146351\ttotal: 1.75s\tremaining: 2.78s\n",
            "386:\tlearn: 0.4145542\ttotal: 1.75s\tremaining: 2.77s\n",
            "387:\tlearn: 0.4144669\ttotal: 1.75s\tremaining: 2.77s\n",
            "388:\tlearn: 0.4143488\ttotal: 1.76s\tremaining: 2.76s\n",
            "389:\tlearn: 0.4142889\ttotal: 1.76s\tremaining: 2.75s\n",
            "390:\tlearn: 0.4142305\ttotal: 1.76s\tremaining: 2.75s\n",
            "391:\tlearn: 0.4141342\ttotal: 1.77s\tremaining: 2.74s\n",
            "392:\tlearn: 0.4140294\ttotal: 1.77s\tremaining: 2.74s\n",
            "393:\tlearn: 0.4139641\ttotal: 1.77s\tremaining: 2.73s\n",
            "394:\tlearn: 0.4138001\ttotal: 1.78s\tremaining: 2.73s\n",
            "395:\tlearn: 0.4137072\ttotal: 1.78s\tremaining: 2.72s\n",
            "396:\tlearn: 0.4136558\ttotal: 1.79s\tremaining: 2.72s\n",
            "397:\tlearn: 0.4135789\ttotal: 1.79s\tremaining: 2.71s\n",
            "398:\tlearn: 0.4134487\ttotal: 1.8s\tremaining: 2.71s\n",
            "399:\tlearn: 0.4133033\ttotal: 1.8s\tremaining: 2.71s\n",
            "400:\tlearn: 0.4132360\ttotal: 1.81s\tremaining: 2.7s\n",
            "401:\tlearn: 0.4130987\ttotal: 1.81s\tremaining: 2.69s\n",
            "402:\tlearn: 0.4130538\ttotal: 1.81s\tremaining: 2.69s\n",
            "403:\tlearn: 0.4129080\ttotal: 1.82s\tremaining: 2.69s\n",
            "404:\tlearn: 0.4127385\ttotal: 1.82s\tremaining: 2.68s\n",
            "405:\tlearn: 0.4126601\ttotal: 1.83s\tremaining: 2.67s\n",
            "406:\tlearn: 0.4126129\ttotal: 1.83s\tremaining: 2.67s\n",
            "407:\tlearn: 0.4124926\ttotal: 1.84s\tremaining: 2.67s\n",
            "408:\tlearn: 0.4124173\ttotal: 1.84s\tremaining: 2.66s\n",
            "409:\tlearn: 0.4123700\ttotal: 1.84s\tremaining: 2.65s\n",
            "410:\tlearn: 0.4123027\ttotal: 1.85s\tremaining: 2.65s\n",
            "411:\tlearn: 0.4122056\ttotal: 1.85s\tremaining: 2.64s\n",
            "412:\tlearn: 0.4121093\ttotal: 1.85s\tremaining: 2.63s\n",
            "413:\tlearn: 0.4120260\ttotal: 1.86s\tremaining: 2.63s\n",
            "414:\tlearn: 0.4119425\ttotal: 1.86s\tremaining: 2.62s\n",
            "415:\tlearn: 0.4118541\ttotal: 1.86s\tremaining: 2.62s\n",
            "416:\tlearn: 0.4117363\ttotal: 1.87s\tremaining: 2.61s\n",
            "417:\tlearn: 0.4116432\ttotal: 1.87s\tremaining: 2.6s\n",
            "418:\tlearn: 0.4115336\ttotal: 1.87s\tremaining: 2.6s\n",
            "419:\tlearn: 0.4114194\ttotal: 1.88s\tremaining: 2.59s\n",
            "420:\tlearn: 0.4113441\ttotal: 1.88s\tremaining: 2.59s\n",
            "421:\tlearn: 0.4112609\ttotal: 1.89s\tremaining: 2.58s\n",
            "422:\tlearn: 0.4111995\ttotal: 1.89s\tremaining: 2.58s\n",
            "423:\tlearn: 0.4111337\ttotal: 1.89s\tremaining: 2.57s\n",
            "424:\tlearn: 0.4110806\ttotal: 1.9s\tremaining: 2.57s\n",
            "425:\tlearn: 0.4110091\ttotal: 1.9s\tremaining: 2.56s\n",
            "426:\tlearn: 0.4109440\ttotal: 1.9s\tremaining: 2.55s\n",
            "427:\tlearn: 0.4108324\ttotal: 1.91s\tremaining: 2.55s\n",
            "428:\tlearn: 0.4107385\ttotal: 1.91s\tremaining: 2.54s\n",
            "429:\tlearn: 0.4106135\ttotal: 1.91s\tremaining: 2.54s\n",
            "430:\tlearn: 0.4105634\ttotal: 1.92s\tremaining: 2.53s\n",
            "431:\tlearn: 0.4104781\ttotal: 1.92s\tremaining: 2.52s\n",
            "432:\tlearn: 0.4104069\ttotal: 1.92s\tremaining: 2.52s\n",
            "433:\tlearn: 0.4103081\ttotal: 1.93s\tremaining: 2.52s\n",
            "434:\tlearn: 0.4102827\ttotal: 1.93s\tremaining: 2.51s\n",
            "435:\tlearn: 0.4102002\ttotal: 1.94s\tremaining: 2.5s\n",
            "436:\tlearn: 0.4101614\ttotal: 1.94s\tremaining: 2.5s\n",
            "437:\tlearn: 0.4100657\ttotal: 1.94s\tremaining: 2.49s\n",
            "438:\tlearn: 0.4099765\ttotal: 1.95s\tremaining: 2.49s\n",
            "439:\tlearn: 0.4098796\ttotal: 1.95s\tremaining: 2.48s\n",
            "440:\tlearn: 0.4098037\ttotal: 1.95s\tremaining: 2.47s\n",
            "441:\tlearn: 0.4097475\ttotal: 1.95s\tremaining: 2.47s\n",
            "442:\tlearn: 0.4096776\ttotal: 1.96s\tremaining: 2.46s\n",
            "443:\tlearn: 0.4096056\ttotal: 1.96s\tremaining: 2.46s\n",
            "444:\tlearn: 0.4095435\ttotal: 1.97s\tremaining: 2.45s\n",
            "445:\tlearn: 0.4094409\ttotal: 1.97s\tremaining: 2.45s\n",
            "446:\tlearn: 0.4093496\ttotal: 1.98s\tremaining: 2.44s\n",
            "447:\tlearn: 0.4092832\ttotal: 1.98s\tremaining: 2.44s\n",
            "448:\tlearn: 0.4090988\ttotal: 1.98s\tremaining: 2.43s\n",
            "449:\tlearn: 0.4090520\ttotal: 1.98s\tremaining: 2.42s\n",
            "450:\tlearn: 0.4089560\ttotal: 1.99s\tremaining: 2.42s\n",
            "451:\tlearn: 0.4088120\ttotal: 1.99s\tremaining: 2.42s\n",
            "452:\tlearn: 0.4087137\ttotal: 2s\tremaining: 2.41s\n",
            "453:\tlearn: 0.4086280\ttotal: 2s\tremaining: 2.41s\n",
            "454:\tlearn: 0.4085196\ttotal: 2.01s\tremaining: 2.4s\n",
            "455:\tlearn: 0.4084333\ttotal: 2.01s\tremaining: 2.4s\n",
            "456:\tlearn: 0.4083710\ttotal: 2.01s\tremaining: 2.39s\n",
            "457:\tlearn: 0.4082575\ttotal: 2.02s\tremaining: 2.39s\n",
            "458:\tlearn: 0.4082173\ttotal: 2.02s\tremaining: 2.38s\n",
            "459:\tlearn: 0.4081191\ttotal: 2.03s\tremaining: 2.38s\n",
            "460:\tlearn: 0.4079605\ttotal: 2.03s\tremaining: 2.38s\n",
            "461:\tlearn: 0.4079072\ttotal: 2.04s\tremaining: 2.37s\n",
            "462:\tlearn: 0.4078410\ttotal: 2.04s\tremaining: 2.37s\n",
            "463:\tlearn: 0.4077228\ttotal: 2.04s\tremaining: 2.36s\n",
            "464:\tlearn: 0.4076781\ttotal: 2.05s\tremaining: 2.36s\n",
            "465:\tlearn: 0.4075435\ttotal: 2.05s\tremaining: 2.35s\n",
            "466:\tlearn: 0.4074370\ttotal: 2.06s\tremaining: 2.35s\n",
            "467:\tlearn: 0.4073344\ttotal: 2.06s\tremaining: 2.34s\n",
            "468:\tlearn: 0.4072474\ttotal: 2.06s\tremaining: 2.33s\n",
            "469:\tlearn: 0.4071431\ttotal: 2.07s\tremaining: 2.33s\n",
            "470:\tlearn: 0.4070417\ttotal: 2.07s\tremaining: 2.33s\n",
            "471:\tlearn: 0.4069220\ttotal: 2.08s\tremaining: 2.32s\n",
            "472:\tlearn: 0.4068195\ttotal: 2.08s\tremaining: 2.31s\n",
            "473:\tlearn: 0.4067759\ttotal: 2.08s\tremaining: 2.31s\n",
            "474:\tlearn: 0.4066836\ttotal: 2.08s\tremaining: 2.31s\n",
            "475:\tlearn: 0.4065954\ttotal: 2.09s\tremaining: 2.3s\n",
            "476:\tlearn: 0.4065095\ttotal: 2.09s\tremaining: 2.29s\n",
            "477:\tlearn: 0.4063767\ttotal: 2.1s\tremaining: 2.29s\n",
            "478:\tlearn: 0.4062839\ttotal: 2.1s\tremaining: 2.28s\n",
            "479:\tlearn: 0.4061782\ttotal: 2.1s\tremaining: 2.28s\n",
            "480:\tlearn: 0.4061244\ttotal: 2.11s\tremaining: 2.27s\n",
            "481:\tlearn: 0.4060517\ttotal: 2.11s\tremaining: 2.27s\n",
            "482:\tlearn: 0.4059872\ttotal: 2.11s\tremaining: 2.26s\n",
            "483:\tlearn: 0.4059303\ttotal: 2.12s\tremaining: 2.26s\n",
            "484:\tlearn: 0.4058291\ttotal: 2.12s\tremaining: 2.25s\n",
            "485:\tlearn: 0.4057876\ttotal: 2.12s\tremaining: 2.25s\n",
            "486:\tlearn: 0.4056238\ttotal: 2.13s\tremaining: 2.24s\n",
            "487:\tlearn: 0.4055429\ttotal: 2.13s\tremaining: 2.24s\n",
            "488:\tlearn: 0.4054016\ttotal: 2.13s\tremaining: 2.23s\n",
            "489:\tlearn: 0.4052666\ttotal: 2.14s\tremaining: 2.23s\n",
            "490:\tlearn: 0.4052315\ttotal: 2.14s\tremaining: 2.22s\n",
            "491:\tlearn: 0.4050827\ttotal: 2.15s\tremaining: 2.22s\n",
            "492:\tlearn: 0.4050248\ttotal: 2.15s\tremaining: 2.21s\n",
            "493:\tlearn: 0.4049619\ttotal: 2.15s\tremaining: 2.21s\n",
            "494:\tlearn: 0.4048003\ttotal: 2.16s\tremaining: 2.2s\n",
            "495:\tlearn: 0.4046744\ttotal: 2.16s\tremaining: 2.19s\n",
            "496:\tlearn: 0.4045656\ttotal: 2.16s\tremaining: 2.19s\n",
            "497:\tlearn: 0.4044830\ttotal: 2.17s\tremaining: 2.19s\n",
            "498:\tlearn: 0.4043918\ttotal: 2.17s\tremaining: 2.18s\n",
            "499:\tlearn: 0.4043148\ttotal: 2.17s\tremaining: 2.17s\n",
            "500:\tlearn: 0.4042388\ttotal: 2.18s\tremaining: 2.17s\n",
            "501:\tlearn: 0.4042032\ttotal: 2.18s\tremaining: 2.17s\n",
            "502:\tlearn: 0.4041045\ttotal: 2.19s\tremaining: 2.16s\n",
            "503:\tlearn: 0.4040072\ttotal: 2.19s\tremaining: 2.16s\n",
            "504:\tlearn: 0.4038589\ttotal: 2.2s\tremaining: 2.15s\n",
            "505:\tlearn: 0.4037502\ttotal: 2.2s\tremaining: 2.15s\n",
            "506:\tlearn: 0.4037173\ttotal: 2.2s\tremaining: 2.14s\n",
            "507:\tlearn: 0.4036363\ttotal: 2.21s\tremaining: 2.14s\n",
            "508:\tlearn: 0.4034942\ttotal: 2.21s\tremaining: 2.13s\n",
            "509:\tlearn: 0.4033762\ttotal: 2.22s\tremaining: 2.13s\n",
            "510:\tlearn: 0.4032911\ttotal: 2.22s\tremaining: 2.12s\n",
            "511:\tlearn: 0.4031881\ttotal: 2.22s\tremaining: 2.12s\n",
            "512:\tlearn: 0.4031190\ttotal: 2.23s\tremaining: 2.12s\n",
            "513:\tlearn: 0.4030522\ttotal: 2.23s\tremaining: 2.11s\n",
            "514:\tlearn: 0.4030133\ttotal: 2.24s\tremaining: 2.1s\n",
            "515:\tlearn: 0.4029316\ttotal: 2.24s\tremaining: 2.1s\n",
            "516:\tlearn: 0.4028863\ttotal: 2.24s\tremaining: 2.1s\n",
            "517:\tlearn: 0.4028523\ttotal: 2.25s\tremaining: 2.09s\n",
            "518:\tlearn: 0.4027859\ttotal: 2.25s\tremaining: 2.09s\n",
            "519:\tlearn: 0.4027357\ttotal: 2.25s\tremaining: 2.08s\n",
            "520:\tlearn: 0.4026022\ttotal: 2.26s\tremaining: 2.08s\n",
            "521:\tlearn: 0.4025439\ttotal: 2.26s\tremaining: 2.07s\n",
            "522:\tlearn: 0.4025086\ttotal: 2.27s\tremaining: 2.07s\n",
            "523:\tlearn: 0.4024026\ttotal: 2.27s\tremaining: 2.06s\n",
            "524:\tlearn: 0.4023352\ttotal: 2.27s\tremaining: 2.06s\n",
            "525:\tlearn: 0.4023046\ttotal: 2.28s\tremaining: 2.05s\n",
            "526:\tlearn: 0.4022420\ttotal: 2.28s\tremaining: 2.05s\n",
            "527:\tlearn: 0.4021660\ttotal: 2.28s\tremaining: 2.04s\n",
            "528:\tlearn: 0.4020303\ttotal: 2.29s\tremaining: 2.04s\n",
            "529:\tlearn: 0.4018955\ttotal: 2.29s\tremaining: 2.03s\n",
            "530:\tlearn: 0.4018250\ttotal: 2.3s\tremaining: 2.03s\n",
            "531:\tlearn: 0.4017912\ttotal: 2.3s\tremaining: 2.02s\n",
            "532:\tlearn: 0.4017285\ttotal: 2.3s\tremaining: 2.02s\n",
            "533:\tlearn: 0.4016351\ttotal: 2.31s\tremaining: 2.01s\n",
            "534:\tlearn: 0.4015043\ttotal: 2.31s\tremaining: 2.01s\n",
            "535:\tlearn: 0.4013994\ttotal: 2.31s\tremaining: 2s\n",
            "536:\tlearn: 0.4013259\ttotal: 2.32s\tremaining: 2s\n",
            "537:\tlearn: 0.4012557\ttotal: 2.32s\tremaining: 1.99s\n",
            "538:\tlearn: 0.4011481\ttotal: 2.33s\tremaining: 1.99s\n",
            "539:\tlearn: 0.4010459\ttotal: 2.33s\tremaining: 1.98s\n",
            "540:\tlearn: 0.4009490\ttotal: 2.33s\tremaining: 1.98s\n",
            "541:\tlearn: 0.4008895\ttotal: 2.33s\tremaining: 1.97s\n",
            "542:\tlearn: 0.4008559\ttotal: 2.34s\tremaining: 1.97s\n",
            "543:\tlearn: 0.4008287\ttotal: 2.34s\tremaining: 1.96s\n",
            "544:\tlearn: 0.4007145\ttotal: 2.35s\tremaining: 1.96s\n",
            "545:\tlearn: 0.4006588\ttotal: 2.35s\tremaining: 1.95s\n",
            "546:\tlearn: 0.4006040\ttotal: 2.35s\tremaining: 1.95s\n",
            "547:\tlearn: 0.4004717\ttotal: 2.36s\tremaining: 1.95s\n",
            "548:\tlearn: 0.4003948\ttotal: 2.36s\tremaining: 1.94s\n",
            "549:\tlearn: 0.4003207\ttotal: 2.37s\tremaining: 1.94s\n",
            "550:\tlearn: 0.4002479\ttotal: 2.37s\tremaining: 1.93s\n",
            "551:\tlearn: 0.4001563\ttotal: 2.38s\tremaining: 1.93s\n",
            "552:\tlearn: 0.4000599\ttotal: 2.38s\tremaining: 1.92s\n",
            "553:\tlearn: 0.4000000\ttotal: 2.38s\tremaining: 1.92s\n",
            "554:\tlearn: 0.3999686\ttotal: 2.39s\tremaining: 1.91s\n",
            "555:\tlearn: 0.3999030\ttotal: 2.39s\tremaining: 1.91s\n",
            "556:\tlearn: 0.3998296\ttotal: 2.39s\tremaining: 1.9s\n",
            "557:\tlearn: 0.3997419\ttotal: 2.4s\tremaining: 1.9s\n",
            "558:\tlearn: 0.3996445\ttotal: 2.4s\tremaining: 1.9s\n",
            "559:\tlearn: 0.3995479\ttotal: 2.41s\tremaining: 1.89s\n",
            "560:\tlearn: 0.3994362\ttotal: 2.41s\tremaining: 1.89s\n",
            "561:\tlearn: 0.3993060\ttotal: 2.41s\tremaining: 1.88s\n",
            "562:\tlearn: 0.3992254\ttotal: 2.42s\tremaining: 1.88s\n",
            "563:\tlearn: 0.3991695\ttotal: 2.42s\tremaining: 1.87s\n",
            "564:\tlearn: 0.3990468\ttotal: 2.43s\tremaining: 1.87s\n",
            "565:\tlearn: 0.3990183\ttotal: 2.43s\tremaining: 1.86s\n",
            "566:\tlearn: 0.3989005\ttotal: 2.43s\tremaining: 1.86s\n",
            "567:\tlearn: 0.3988421\ttotal: 2.44s\tremaining: 1.85s\n",
            "568:\tlearn: 0.3986910\ttotal: 2.44s\tremaining: 1.85s\n",
            "569:\tlearn: 0.3986298\ttotal: 2.44s\tremaining: 1.84s\n",
            "570:\tlearn: 0.3985640\ttotal: 2.45s\tremaining: 1.84s\n",
            "571:\tlearn: 0.3984669\ttotal: 2.45s\tremaining: 1.83s\n",
            "572:\tlearn: 0.3983632\ttotal: 2.46s\tremaining: 1.83s\n",
            "573:\tlearn: 0.3983383\ttotal: 2.46s\tremaining: 1.82s\n",
            "574:\tlearn: 0.3982806\ttotal: 2.46s\tremaining: 1.82s\n",
            "575:\tlearn: 0.3982030\ttotal: 2.46s\tremaining: 1.81s\n",
            "576:\tlearn: 0.3980862\ttotal: 2.47s\tremaining: 1.81s\n",
            "577:\tlearn: 0.3980225\ttotal: 2.47s\tremaining: 1.8s\n",
            "578:\tlearn: 0.3979601\ttotal: 2.47s\tremaining: 1.8s\n",
            "579:\tlearn: 0.3978818\ttotal: 2.48s\tremaining: 1.79s\n",
            "580:\tlearn: 0.3977637\ttotal: 2.48s\tremaining: 1.79s\n",
            "581:\tlearn: 0.3976647\ttotal: 2.48s\tremaining: 1.78s\n",
            "582:\tlearn: 0.3975651\ttotal: 2.49s\tremaining: 1.78s\n",
            "583:\tlearn: 0.3974716\ttotal: 2.49s\tremaining: 1.78s\n",
            "584:\tlearn: 0.3973270\ttotal: 2.5s\tremaining: 1.77s\n",
            "585:\tlearn: 0.3972366\ttotal: 2.5s\tremaining: 1.77s\n",
            "586:\tlearn: 0.3971212\ttotal: 2.5s\tremaining: 1.76s\n",
            "587:\tlearn: 0.3969983\ttotal: 2.51s\tremaining: 1.76s\n",
            "588:\tlearn: 0.3968865\ttotal: 2.51s\tremaining: 1.75s\n",
            "589:\tlearn: 0.3967353\ttotal: 2.52s\tremaining: 1.75s\n",
            "590:\tlearn: 0.3966302\ttotal: 2.52s\tremaining: 1.74s\n",
            "591:\tlearn: 0.3965092\ttotal: 2.52s\tremaining: 1.74s\n",
            "592:\tlearn: 0.3964530\ttotal: 2.53s\tremaining: 1.73s\n",
            "593:\tlearn: 0.3963389\ttotal: 2.53s\tremaining: 1.73s\n",
            "594:\tlearn: 0.3962980\ttotal: 2.53s\tremaining: 1.72s\n",
            "595:\tlearn: 0.3962070\ttotal: 2.54s\tremaining: 1.72s\n",
            "596:\tlearn: 0.3961026\ttotal: 2.54s\tremaining: 1.72s\n",
            "597:\tlearn: 0.3960168\ttotal: 2.55s\tremaining: 1.71s\n",
            "598:\tlearn: 0.3959402\ttotal: 2.55s\tremaining: 1.71s\n",
            "599:\tlearn: 0.3958496\ttotal: 2.55s\tremaining: 1.7s\n",
            "600:\tlearn: 0.3957837\ttotal: 2.56s\tremaining: 1.7s\n",
            "601:\tlearn: 0.3956946\ttotal: 2.56s\tremaining: 1.69s\n",
            "602:\tlearn: 0.3956099\ttotal: 2.57s\tremaining: 1.69s\n",
            "603:\tlearn: 0.3955852\ttotal: 2.57s\tremaining: 1.68s\n",
            "604:\tlearn: 0.3954980\ttotal: 2.57s\tremaining: 1.68s\n",
            "605:\tlearn: 0.3954662\ttotal: 2.58s\tremaining: 1.68s\n",
            "606:\tlearn: 0.3954226\ttotal: 2.58s\tremaining: 1.67s\n",
            "607:\tlearn: 0.3953603\ttotal: 2.58s\tremaining: 1.67s\n",
            "608:\tlearn: 0.3952861\ttotal: 2.59s\tremaining: 1.66s\n",
            "609:\tlearn: 0.3951663\ttotal: 2.59s\tremaining: 1.66s\n",
            "610:\tlearn: 0.3950845\ttotal: 2.59s\tremaining: 1.65s\n",
            "611:\tlearn: 0.3949715\ttotal: 2.6s\tremaining: 1.65s\n",
            "612:\tlearn: 0.3949228\ttotal: 2.6s\tremaining: 1.64s\n",
            "613:\tlearn: 0.3948106\ttotal: 2.61s\tremaining: 1.64s\n",
            "614:\tlearn: 0.3947035\ttotal: 2.61s\tremaining: 1.64s\n",
            "615:\tlearn: 0.3945993\ttotal: 2.62s\tremaining: 1.63s\n",
            "616:\tlearn: 0.3945313\ttotal: 2.62s\tremaining: 1.63s\n",
            "617:\tlearn: 0.3944856\ttotal: 2.62s\tremaining: 1.62s\n",
            "618:\tlearn: 0.3944251\ttotal: 2.63s\tremaining: 1.62s\n",
            "619:\tlearn: 0.3943504\ttotal: 2.63s\tremaining: 1.61s\n",
            "620:\tlearn: 0.3942644\ttotal: 2.63s\tremaining: 1.61s\n",
            "621:\tlearn: 0.3941856\ttotal: 2.64s\tremaining: 1.6s\n",
            "622:\tlearn: 0.3941637\ttotal: 2.64s\tremaining: 1.6s\n",
            "623:\tlearn: 0.3940654\ttotal: 2.64s\tremaining: 1.59s\n",
            "624:\tlearn: 0.3939696\ttotal: 2.65s\tremaining: 1.59s\n",
            "625:\tlearn: 0.3938965\ttotal: 2.65s\tremaining: 1.58s\n",
            "626:\tlearn: 0.3938471\ttotal: 2.65s\tremaining: 1.58s\n",
            "627:\tlearn: 0.3937643\ttotal: 2.66s\tremaining: 1.57s\n",
            "628:\tlearn: 0.3936207\ttotal: 2.66s\tremaining: 1.57s\n",
            "629:\tlearn: 0.3935613\ttotal: 2.66s\tremaining: 1.56s\n",
            "630:\tlearn: 0.3934523\ttotal: 2.67s\tremaining: 1.56s\n",
            "631:\tlearn: 0.3933567\ttotal: 2.67s\tremaining: 1.56s\n",
            "632:\tlearn: 0.3932823\ttotal: 2.68s\tremaining: 1.55s\n",
            "633:\tlearn: 0.3932178\ttotal: 2.68s\tremaining: 1.55s\n",
            "634:\tlearn: 0.3931061\ttotal: 2.68s\tremaining: 1.54s\n",
            "635:\tlearn: 0.3930246\ttotal: 2.69s\tremaining: 1.54s\n",
            "636:\tlearn: 0.3929384\ttotal: 2.69s\tremaining: 1.53s\n",
            "637:\tlearn: 0.3928447\ttotal: 2.69s\tremaining: 1.53s\n",
            "638:\tlearn: 0.3927717\ttotal: 2.7s\tremaining: 1.52s\n",
            "639:\tlearn: 0.3926621\ttotal: 2.7s\tremaining: 1.52s\n",
            "640:\tlearn: 0.3925989\ttotal: 2.71s\tremaining: 1.52s\n",
            "641:\tlearn: 0.3925780\ttotal: 2.71s\tremaining: 1.51s\n",
            "642:\tlearn: 0.3925003\ttotal: 2.71s\tremaining: 1.51s\n",
            "643:\tlearn: 0.3924600\ttotal: 2.72s\tremaining: 1.5s\n",
            "644:\tlearn: 0.3923777\ttotal: 2.72s\tremaining: 1.5s\n",
            "645:\tlearn: 0.3922818\ttotal: 2.73s\tremaining: 1.49s\n",
            "646:\tlearn: 0.3921992\ttotal: 2.73s\tremaining: 1.49s\n",
            "647:\tlearn: 0.3921791\ttotal: 2.73s\tremaining: 1.48s\n",
            "648:\tlearn: 0.3920848\ttotal: 2.74s\tremaining: 1.48s\n",
            "649:\tlearn: 0.3920137\ttotal: 2.74s\tremaining: 1.48s\n",
            "650:\tlearn: 0.3919172\ttotal: 2.75s\tremaining: 1.47s\n",
            "651:\tlearn: 0.3918692\ttotal: 2.75s\tremaining: 1.47s\n",
            "652:\tlearn: 0.3918087\ttotal: 2.76s\tremaining: 1.46s\n",
            "653:\tlearn: 0.3917401\ttotal: 2.76s\tremaining: 1.46s\n",
            "654:\tlearn: 0.3916642\ttotal: 2.76s\tremaining: 1.46s\n",
            "655:\tlearn: 0.3915752\ttotal: 2.77s\tremaining: 1.45s\n",
            "656:\tlearn: 0.3915332\ttotal: 2.77s\tremaining: 1.45s\n",
            "657:\tlearn: 0.3914779\ttotal: 2.77s\tremaining: 1.44s\n",
            "658:\tlearn: 0.3913683\ttotal: 2.78s\tremaining: 1.44s\n",
            "659:\tlearn: 0.3912869\ttotal: 2.78s\tremaining: 1.43s\n",
            "660:\tlearn: 0.3912190\ttotal: 2.78s\tremaining: 1.43s\n",
            "661:\tlearn: 0.3911258\ttotal: 2.79s\tremaining: 1.42s\n",
            "662:\tlearn: 0.3910554\ttotal: 2.79s\tremaining: 1.42s\n",
            "663:\tlearn: 0.3909771\ttotal: 2.79s\tremaining: 1.41s\n",
            "664:\tlearn: 0.3909584\ttotal: 2.8s\tremaining: 1.41s\n",
            "665:\tlearn: 0.3909400\ttotal: 2.8s\tremaining: 1.41s\n",
            "666:\tlearn: 0.3908831\ttotal: 2.81s\tremaining: 1.4s\n",
            "667:\tlearn: 0.3908303\ttotal: 2.81s\tremaining: 1.4s\n",
            "668:\tlearn: 0.3907237\ttotal: 2.81s\tremaining: 1.39s\n",
            "669:\tlearn: 0.3906454\ttotal: 2.82s\tremaining: 1.39s\n",
            "670:\tlearn: 0.3905696\ttotal: 2.82s\tremaining: 1.38s\n",
            "671:\tlearn: 0.3904981\ttotal: 2.82s\tremaining: 1.38s\n",
            "672:\tlearn: 0.3903807\ttotal: 2.83s\tremaining: 1.37s\n",
            "673:\tlearn: 0.3903128\ttotal: 2.83s\tremaining: 1.37s\n",
            "674:\tlearn: 0.3902559\ttotal: 2.83s\tremaining: 1.36s\n",
            "675:\tlearn: 0.3901696\ttotal: 2.84s\tremaining: 1.36s\n",
            "676:\tlearn: 0.3901032\ttotal: 2.84s\tremaining: 1.36s\n",
            "677:\tlearn: 0.3900036\ttotal: 2.85s\tremaining: 1.35s\n",
            "678:\tlearn: 0.3899347\ttotal: 2.85s\tremaining: 1.35s\n",
            "679:\tlearn: 0.3898525\ttotal: 2.85s\tremaining: 1.34s\n",
            "680:\tlearn: 0.3897583\ttotal: 2.86s\tremaining: 1.34s\n",
            "681:\tlearn: 0.3896398\ttotal: 2.86s\tremaining: 1.33s\n",
            "682:\tlearn: 0.3895887\ttotal: 2.87s\tremaining: 1.33s\n",
            "683:\tlearn: 0.3895475\ttotal: 2.87s\tremaining: 1.33s\n",
            "684:\tlearn: 0.3894796\ttotal: 2.88s\tremaining: 1.32s\n",
            "685:\tlearn: 0.3893850\ttotal: 2.88s\tremaining: 1.32s\n",
            "686:\tlearn: 0.3892513\ttotal: 2.88s\tremaining: 1.31s\n",
            "687:\tlearn: 0.3891664\ttotal: 2.89s\tremaining: 1.31s\n",
            "688:\tlearn: 0.3890909\ttotal: 2.89s\tremaining: 1.31s\n",
            "689:\tlearn: 0.3890143\ttotal: 2.9s\tremaining: 1.3s\n",
            "690:\tlearn: 0.3889643\ttotal: 2.9s\tremaining: 1.3s\n",
            "691:\tlearn: 0.3888313\ttotal: 2.91s\tremaining: 1.29s\n",
            "692:\tlearn: 0.3887799\ttotal: 2.91s\tremaining: 1.29s\n",
            "693:\tlearn: 0.3887120\ttotal: 2.92s\tremaining: 1.28s\n",
            "694:\tlearn: 0.3886857\ttotal: 2.92s\tremaining: 1.28s\n",
            "695:\tlearn: 0.3886088\ttotal: 2.93s\tremaining: 1.28s\n",
            "696:\tlearn: 0.3885331\ttotal: 2.93s\tremaining: 1.27s\n",
            "697:\tlearn: 0.3884596\ttotal: 2.94s\tremaining: 1.27s\n",
            "698:\tlearn: 0.3883510\ttotal: 2.94s\tremaining: 1.27s\n",
            "699:\tlearn: 0.3882308\ttotal: 2.95s\tremaining: 1.26s\n",
            "700:\tlearn: 0.3882057\ttotal: 2.96s\tremaining: 1.26s\n",
            "701:\tlearn: 0.3881101\ttotal: 2.96s\tremaining: 1.26s\n",
            "702:\tlearn: 0.3880170\ttotal: 2.97s\tremaining: 1.25s\n",
            "703:\tlearn: 0.3879773\ttotal: 2.97s\tremaining: 1.25s\n",
            "704:\tlearn: 0.3879141\ttotal: 2.98s\tremaining: 1.25s\n",
            "705:\tlearn: 0.3878281\ttotal: 2.99s\tremaining: 1.24s\n",
            "706:\tlearn: 0.3877677\ttotal: 2.99s\tremaining: 1.24s\n",
            "707:\tlearn: 0.3877296\ttotal: 3s\tremaining: 1.24s\n",
            "708:\tlearn: 0.3876811\ttotal: 3s\tremaining: 1.23s\n",
            "709:\tlearn: 0.3876077\ttotal: 3.01s\tremaining: 1.23s\n",
            "710:\tlearn: 0.3875505\ttotal: 3.01s\tremaining: 1.22s\n",
            "711:\tlearn: 0.3874605\ttotal: 3.02s\tremaining: 1.22s\n",
            "712:\tlearn: 0.3873520\ttotal: 3.02s\tremaining: 1.22s\n",
            "713:\tlearn: 0.3872702\ttotal: 3.03s\tremaining: 1.21s\n",
            "714:\tlearn: 0.3872082\ttotal: 3.04s\tremaining: 1.21s\n",
            "715:\tlearn: 0.3871200\ttotal: 3.04s\tremaining: 1.21s\n",
            "716:\tlearn: 0.3870360\ttotal: 3.05s\tremaining: 1.2s\n",
            "717:\tlearn: 0.3869537\ttotal: 3.05s\tremaining: 1.2s\n",
            "718:\tlearn: 0.3868913\ttotal: 3.06s\tremaining: 1.2s\n",
            "719:\tlearn: 0.3867985\ttotal: 3.07s\tremaining: 1.19s\n",
            "720:\tlearn: 0.3867237\ttotal: 3.08s\tremaining: 1.19s\n",
            "721:\tlearn: 0.3866396\ttotal: 3.08s\tremaining: 1.19s\n",
            "722:\tlearn: 0.3865358\ttotal: 3.09s\tremaining: 1.18s\n",
            "723:\tlearn: 0.3864720\ttotal: 3.1s\tremaining: 1.18s\n",
            "724:\tlearn: 0.3864483\ttotal: 3.1s\tremaining: 1.18s\n",
            "725:\tlearn: 0.3863794\ttotal: 3.1s\tremaining: 1.17s\n",
            "726:\tlearn: 0.3863316\ttotal: 3.11s\tremaining: 1.17s\n",
            "727:\tlearn: 0.3862304\ttotal: 3.11s\tremaining: 1.16s\n",
            "728:\tlearn: 0.3861588\ttotal: 3.12s\tremaining: 1.16s\n",
            "729:\tlearn: 0.3860259\ttotal: 3.12s\tremaining: 1.15s\n",
            "730:\tlearn: 0.3859477\ttotal: 3.13s\tremaining: 1.15s\n",
            "731:\tlearn: 0.3858794\ttotal: 3.13s\tremaining: 1.15s\n",
            "732:\tlearn: 0.3857920\ttotal: 3.13s\tremaining: 1.14s\n",
            "733:\tlearn: 0.3857282\ttotal: 3.14s\tremaining: 1.14s\n",
            "734:\tlearn: 0.3856207\ttotal: 3.15s\tremaining: 1.13s\n",
            "735:\tlearn: 0.3855498\ttotal: 3.15s\tremaining: 1.13s\n",
            "736:\tlearn: 0.3854679\ttotal: 3.16s\tremaining: 1.13s\n",
            "737:\tlearn: 0.3854307\ttotal: 3.16s\tremaining: 1.12s\n",
            "738:\tlearn: 0.3853456\ttotal: 3.17s\tremaining: 1.12s\n",
            "739:\tlearn: 0.3852608\ttotal: 3.18s\tremaining: 1.12s\n",
            "740:\tlearn: 0.3852357\ttotal: 3.18s\tremaining: 1.11s\n",
            "741:\tlearn: 0.3851183\ttotal: 3.19s\tremaining: 1.11s\n",
            "742:\tlearn: 0.3850325\ttotal: 3.2s\tremaining: 1.1s\n",
            "743:\tlearn: 0.3849762\ttotal: 3.2s\tremaining: 1.1s\n",
            "744:\tlearn: 0.3849606\ttotal: 3.21s\tremaining: 1.1s\n",
            "745:\tlearn: 0.3848810\ttotal: 3.21s\tremaining: 1.09s\n",
            "746:\tlearn: 0.3847926\ttotal: 3.22s\tremaining: 1.09s\n",
            "747:\tlearn: 0.3847564\ttotal: 3.23s\tremaining: 1.09s\n",
            "748:\tlearn: 0.3846990\ttotal: 3.23s\tremaining: 1.08s\n",
            "749:\tlearn: 0.3846266\ttotal: 3.24s\tremaining: 1.08s\n",
            "750:\tlearn: 0.3845686\ttotal: 3.24s\tremaining: 1.07s\n",
            "751:\tlearn: 0.3845007\ttotal: 3.25s\tremaining: 1.07s\n",
            "752:\tlearn: 0.3844462\ttotal: 3.25s\tremaining: 1.07s\n",
            "753:\tlearn: 0.3843786\ttotal: 3.26s\tremaining: 1.06s\n",
            "754:\tlearn: 0.3842857\ttotal: 3.26s\tremaining: 1.06s\n",
            "755:\tlearn: 0.3842036\ttotal: 3.27s\tremaining: 1.05s\n",
            "756:\tlearn: 0.3841400\ttotal: 3.27s\tremaining: 1.05s\n",
            "757:\tlearn: 0.3840409\ttotal: 3.28s\tremaining: 1.05s\n",
            "758:\tlearn: 0.3839862\ttotal: 3.29s\tremaining: 1.04s\n",
            "759:\tlearn: 0.3839147\ttotal: 3.29s\tremaining: 1.04s\n",
            "760:\tlearn: 0.3838542\ttotal: 3.3s\tremaining: 1.04s\n",
            "761:\tlearn: 0.3837876\ttotal: 3.3s\tremaining: 1.03s\n",
            "762:\tlearn: 0.3836977\ttotal: 3.31s\tremaining: 1.03s\n",
            "763:\tlearn: 0.3836313\ttotal: 3.32s\tremaining: 1.02s\n",
            "764:\tlearn: 0.3835559\ttotal: 3.32s\tremaining: 1.02s\n",
            "765:\tlearn: 0.3835339\ttotal: 3.33s\tremaining: 1.02s\n",
            "766:\tlearn: 0.3835188\ttotal: 3.33s\tremaining: 1.01s\n",
            "767:\tlearn: 0.3834382\ttotal: 3.34s\tremaining: 1.01s\n",
            "768:\tlearn: 0.3833517\ttotal: 3.35s\tremaining: 1.01s\n",
            "769:\tlearn: 0.3832880\ttotal: 3.35s\tremaining: 1s\n",
            "770:\tlearn: 0.3832096\ttotal: 3.36s\tremaining: 999ms\n",
            "771:\tlearn: 0.3831567\ttotal: 3.37s\tremaining: 995ms\n",
            "772:\tlearn: 0.3831048\ttotal: 3.38s\tremaining: 993ms\n",
            "773:\tlearn: 0.3830310\ttotal: 3.4s\tremaining: 991ms\n",
            "774:\tlearn: 0.3829516\ttotal: 3.4s\tremaining: 988ms\n",
            "775:\tlearn: 0.3829180\ttotal: 3.41s\tremaining: 984ms\n",
            "776:\tlearn: 0.3828414\ttotal: 3.42s\tremaining: 981ms\n",
            "777:\tlearn: 0.3827220\ttotal: 3.43s\tremaining: 979ms\n",
            "778:\tlearn: 0.3826496\ttotal: 3.44s\tremaining: 975ms\n",
            "779:\tlearn: 0.3826144\ttotal: 3.44s\tremaining: 971ms\n",
            "780:\tlearn: 0.3825351\ttotal: 3.45s\tremaining: 967ms\n",
            "781:\tlearn: 0.3824740\ttotal: 3.46s\tremaining: 963ms\n",
            "782:\tlearn: 0.3824104\ttotal: 3.46s\tremaining: 959ms\n",
            "783:\tlearn: 0.3823398\ttotal: 3.47s\tremaining: 956ms\n",
            "784:\tlearn: 0.3822576\ttotal: 3.48s\tremaining: 952ms\n",
            "785:\tlearn: 0.3821629\ttotal: 3.48s\tremaining: 948ms\n",
            "786:\tlearn: 0.3821032\ttotal: 3.49s\tremaining: 944ms\n",
            "787:\tlearn: 0.3820444\ttotal: 3.5s\tremaining: 941ms\n",
            "788:\tlearn: 0.3819476\ttotal: 3.5s\tremaining: 937ms\n",
            "789:\tlearn: 0.3818752\ttotal: 3.51s\tremaining: 933ms\n",
            "790:\tlearn: 0.3818409\ttotal: 3.52s\tremaining: 929ms\n",
            "791:\tlearn: 0.3817662\ttotal: 3.52s\tremaining: 925ms\n",
            "792:\tlearn: 0.3816707\ttotal: 3.52s\tremaining: 920ms\n",
            "793:\tlearn: 0.3815229\ttotal: 3.53s\tremaining: 916ms\n",
            "794:\tlearn: 0.3814510\ttotal: 3.54s\tremaining: 912ms\n",
            "795:\tlearn: 0.3813823\ttotal: 3.55s\tremaining: 909ms\n",
            "796:\tlearn: 0.3813502\ttotal: 3.55s\tremaining: 905ms\n",
            "797:\tlearn: 0.3812762\ttotal: 3.56s\tremaining: 901ms\n",
            "798:\tlearn: 0.3812147\ttotal: 3.56s\tremaining: 897ms\n",
            "799:\tlearn: 0.3811449\ttotal: 3.57s\tremaining: 892ms\n",
            "800:\tlearn: 0.3810718\ttotal: 3.58s\tremaining: 889ms\n",
            "801:\tlearn: 0.3809595\ttotal: 3.58s\tremaining: 885ms\n",
            "802:\tlearn: 0.3808766\ttotal: 3.59s\tremaining: 881ms\n",
            "803:\tlearn: 0.3807976\ttotal: 3.6s\tremaining: 877ms\n",
            "804:\tlearn: 0.3807457\ttotal: 3.6s\tremaining: 872ms\n",
            "805:\tlearn: 0.3806818\ttotal: 3.61s\tremaining: 869ms\n",
            "806:\tlearn: 0.3806210\ttotal: 3.62s\tremaining: 865ms\n",
            "807:\tlearn: 0.3805632\ttotal: 3.62s\tremaining: 861ms\n",
            "808:\tlearn: 0.3805405\ttotal: 3.63s\tremaining: 857ms\n",
            "809:\tlearn: 0.3804783\ttotal: 3.63s\tremaining: 853ms\n",
            "810:\tlearn: 0.3804207\ttotal: 3.65s\tremaining: 849ms\n",
            "811:\tlearn: 0.3803728\ttotal: 3.65s\tremaining: 846ms\n",
            "812:\tlearn: 0.3802392\ttotal: 3.66s\tremaining: 842ms\n",
            "813:\tlearn: 0.3802130\ttotal: 3.66s\tremaining: 837ms\n",
            "814:\tlearn: 0.3801741\ttotal: 3.67s\tremaining: 834ms\n",
            "815:\tlearn: 0.3801541\ttotal: 3.68s\tremaining: 830ms\n",
            "816:\tlearn: 0.3800965\ttotal: 3.69s\tremaining: 826ms\n",
            "817:\tlearn: 0.3800111\ttotal: 3.69s\tremaining: 822ms\n",
            "818:\tlearn: 0.3799716\ttotal: 3.7s\tremaining: 818ms\n",
            "819:\tlearn: 0.3798722\ttotal: 3.71s\tremaining: 814ms\n",
            "820:\tlearn: 0.3798113\ttotal: 3.72s\tremaining: 810ms\n",
            "821:\tlearn: 0.3797493\ttotal: 3.72s\tremaining: 806ms\n",
            "822:\tlearn: 0.3796855\ttotal: 3.73s\tremaining: 803ms\n",
            "823:\tlearn: 0.3796245\ttotal: 3.74s\tremaining: 799ms\n",
            "824:\tlearn: 0.3795690\ttotal: 3.74s\tremaining: 794ms\n",
            "825:\tlearn: 0.3795235\ttotal: 3.75s\tremaining: 790ms\n",
            "826:\tlearn: 0.3794148\ttotal: 3.76s\tremaining: 786ms\n",
            "827:\tlearn: 0.3793507\ttotal: 3.77s\tremaining: 782ms\n",
            "828:\tlearn: 0.3792758\ttotal: 3.77s\tremaining: 778ms\n",
            "829:\tlearn: 0.3792477\ttotal: 3.78s\tremaining: 775ms\n",
            "830:\tlearn: 0.3791764\ttotal: 3.79s\tremaining: 771ms\n",
            "831:\tlearn: 0.3791021\ttotal: 3.8s\tremaining: 767ms\n",
            "832:\tlearn: 0.3790687\ttotal: 3.8s\tremaining: 762ms\n",
            "833:\tlearn: 0.3789840\ttotal: 3.81s\tremaining: 758ms\n",
            "834:\tlearn: 0.3789281\ttotal: 3.82s\tremaining: 754ms\n",
            "835:\tlearn: 0.3788700\ttotal: 3.83s\tremaining: 751ms\n",
            "836:\tlearn: 0.3788054\ttotal: 3.83s\tremaining: 746ms\n",
            "837:\tlearn: 0.3787236\ttotal: 3.84s\tremaining: 742ms\n",
            "838:\tlearn: 0.3786516\ttotal: 3.85s\tremaining: 738ms\n",
            "839:\tlearn: 0.3786219\ttotal: 3.85s\tremaining: 734ms\n",
            "840:\tlearn: 0.3785967\ttotal: 3.86s\tremaining: 730ms\n",
            "841:\tlearn: 0.3785303\ttotal: 3.86s\tremaining: 725ms\n",
            "842:\tlearn: 0.3784560\ttotal: 3.87s\tremaining: 721ms\n",
            "843:\tlearn: 0.3783911\ttotal: 3.88s\tremaining: 716ms\n",
            "844:\tlearn: 0.3783649\ttotal: 3.88s\tremaining: 712ms\n",
            "845:\tlearn: 0.3783061\ttotal: 3.88s\tremaining: 707ms\n",
            "846:\tlearn: 0.3782321\ttotal: 3.89s\tremaining: 703ms\n",
            "847:\tlearn: 0.3781519\ttotal: 3.9s\tremaining: 698ms\n",
            "848:\tlearn: 0.3780595\ttotal: 3.9s\tremaining: 694ms\n",
            "849:\tlearn: 0.3779766\ttotal: 3.9s\tremaining: 689ms\n",
            "850:\tlearn: 0.3779125\ttotal: 3.91s\tremaining: 685ms\n",
            "851:\tlearn: 0.3778608\ttotal: 3.91s\tremaining: 680ms\n",
            "852:\tlearn: 0.3777960\ttotal: 3.92s\tremaining: 676ms\n",
            "853:\tlearn: 0.3777616\ttotal: 3.92s\tremaining: 671ms\n",
            "854:\tlearn: 0.3777065\ttotal: 3.93s\tremaining: 666ms\n",
            "855:\tlearn: 0.3776174\ttotal: 3.93s\tremaining: 662ms\n",
            "856:\tlearn: 0.3775658\ttotal: 3.94s\tremaining: 657ms\n",
            "857:\tlearn: 0.3774892\ttotal: 3.94s\tremaining: 653ms\n",
            "858:\tlearn: 0.3774183\ttotal: 3.95s\tremaining: 649ms\n",
            "859:\tlearn: 0.3773107\ttotal: 3.96s\tremaining: 644ms\n",
            "860:\tlearn: 0.3772150\ttotal: 3.96s\tremaining: 640ms\n",
            "861:\tlearn: 0.3771449\ttotal: 3.97s\tremaining: 635ms\n",
            "862:\tlearn: 0.3770646\ttotal: 3.97s\tremaining: 631ms\n",
            "863:\tlearn: 0.3769920\ttotal: 3.98s\tremaining: 626ms\n",
            "864:\tlearn: 0.3769177\ttotal: 3.98s\tremaining: 622ms\n",
            "865:\tlearn: 0.3768702\ttotal: 3.99s\tremaining: 617ms\n",
            "866:\tlearn: 0.3768126\ttotal: 3.99s\tremaining: 612ms\n",
            "867:\tlearn: 0.3767388\ttotal: 3.99s\tremaining: 607ms\n",
            "868:\tlearn: 0.3766550\ttotal: 4s\tremaining: 603ms\n",
            "869:\tlearn: 0.3765977\ttotal: 4s\tremaining: 598ms\n",
            "870:\tlearn: 0.3765392\ttotal: 4s\tremaining: 593ms\n",
            "871:\tlearn: 0.3765256\ttotal: 4.01s\tremaining: 588ms\n",
            "872:\tlearn: 0.3764781\ttotal: 4.01s\tremaining: 584ms\n",
            "873:\tlearn: 0.3764264\ttotal: 4.02s\tremaining: 579ms\n",
            "874:\tlearn: 0.3763533\ttotal: 4.02s\tremaining: 574ms\n",
            "875:\tlearn: 0.3763412\ttotal: 4.02s\tremaining: 570ms\n",
            "876:\tlearn: 0.3763088\ttotal: 4.03s\tremaining: 565ms\n",
            "877:\tlearn: 0.3762133\ttotal: 4.03s\tremaining: 560ms\n",
            "878:\tlearn: 0.3761755\ttotal: 4.03s\tremaining: 555ms\n",
            "879:\tlearn: 0.3761051\ttotal: 4.04s\tremaining: 550ms\n",
            "880:\tlearn: 0.3760302\ttotal: 4.04s\tremaining: 546ms\n",
            "881:\tlearn: 0.3759048\ttotal: 4.04s\tremaining: 541ms\n",
            "882:\tlearn: 0.3758225\ttotal: 4.05s\tremaining: 536ms\n",
            "883:\tlearn: 0.3758111\ttotal: 4.05s\tremaining: 532ms\n",
            "884:\tlearn: 0.3757156\ttotal: 4.05s\tremaining: 527ms\n",
            "885:\tlearn: 0.3756796\ttotal: 4.06s\tremaining: 523ms\n",
            "886:\tlearn: 0.3756252\ttotal: 4.07s\tremaining: 518ms\n",
            "887:\tlearn: 0.3755367\ttotal: 4.07s\tremaining: 513ms\n",
            "888:\tlearn: 0.3755066\ttotal: 4.07s\tremaining: 509ms\n",
            "889:\tlearn: 0.3753995\ttotal: 4.08s\tremaining: 504ms\n",
            "890:\tlearn: 0.3752961\ttotal: 4.08s\tremaining: 499ms\n",
            "891:\tlearn: 0.3752330\ttotal: 4.08s\tremaining: 495ms\n",
            "892:\tlearn: 0.3751834\ttotal: 4.09s\tremaining: 490ms\n",
            "893:\tlearn: 0.3751619\ttotal: 4.09s\tremaining: 485ms\n",
            "894:\tlearn: 0.3750719\ttotal: 4.1s\tremaining: 481ms\n",
            "895:\tlearn: 0.3750193\ttotal: 4.1s\tremaining: 476ms\n",
            "896:\tlearn: 0.3749922\ttotal: 4.1s\tremaining: 471ms\n",
            "897:\tlearn: 0.3749337\ttotal: 4.11s\tremaining: 467ms\n",
            "898:\tlearn: 0.3748634\ttotal: 4.11s\tremaining: 462ms\n",
            "899:\tlearn: 0.3748406\ttotal: 4.12s\tremaining: 457ms\n",
            "900:\tlearn: 0.3747723\ttotal: 4.12s\tremaining: 453ms\n",
            "901:\tlearn: 0.3747167\ttotal: 4.12s\tremaining: 448ms\n",
            "902:\tlearn: 0.3746862\ttotal: 4.13s\tremaining: 444ms\n",
            "903:\tlearn: 0.3746173\ttotal: 4.13s\tremaining: 439ms\n",
            "904:\tlearn: 0.3745785\ttotal: 4.13s\tremaining: 434ms\n",
            "905:\tlearn: 0.3744770\ttotal: 4.14s\tremaining: 429ms\n",
            "906:\tlearn: 0.3743973\ttotal: 4.14s\tremaining: 425ms\n",
            "907:\tlearn: 0.3743684\ttotal: 4.15s\tremaining: 420ms\n",
            "908:\tlearn: 0.3743041\ttotal: 4.15s\tremaining: 416ms\n",
            "909:\tlearn: 0.3742519\ttotal: 4.15s\tremaining: 411ms\n",
            "910:\tlearn: 0.3741740\ttotal: 4.16s\tremaining: 406ms\n",
            "911:\tlearn: 0.3741244\ttotal: 4.16s\tremaining: 402ms\n",
            "912:\tlearn: 0.3740627\ttotal: 4.17s\tremaining: 397ms\n",
            "913:\tlearn: 0.3740158\ttotal: 4.17s\tremaining: 392ms\n",
            "914:\tlearn: 0.3739480\ttotal: 4.17s\tremaining: 388ms\n",
            "915:\tlearn: 0.3738811\ttotal: 4.18s\tremaining: 383ms\n",
            "916:\tlearn: 0.3738247\ttotal: 4.18s\tremaining: 378ms\n",
            "917:\tlearn: 0.3737914\ttotal: 4.18s\tremaining: 374ms\n",
            "918:\tlearn: 0.3737118\ttotal: 4.19s\tremaining: 369ms\n",
            "919:\tlearn: 0.3736905\ttotal: 4.19s\tremaining: 365ms\n",
            "920:\tlearn: 0.3736430\ttotal: 4.19s\tremaining: 360ms\n",
            "921:\tlearn: 0.3736276\ttotal: 4.2s\tremaining: 355ms\n",
            "922:\tlearn: 0.3736093\ttotal: 4.2s\tremaining: 350ms\n",
            "923:\tlearn: 0.3735295\ttotal: 4.21s\tremaining: 346ms\n",
            "924:\tlearn: 0.3734708\ttotal: 4.21s\tremaining: 341ms\n",
            "925:\tlearn: 0.3733479\ttotal: 4.21s\tremaining: 337ms\n",
            "926:\tlearn: 0.3733160\ttotal: 4.22s\tremaining: 332ms\n",
            "927:\tlearn: 0.3732710\ttotal: 4.22s\tremaining: 327ms\n",
            "928:\tlearn: 0.3732258\ttotal: 4.22s\tremaining: 323ms\n",
            "929:\tlearn: 0.3731676\ttotal: 4.23s\tremaining: 318ms\n",
            "930:\tlearn: 0.3730990\ttotal: 4.23s\tremaining: 313ms\n",
            "931:\tlearn: 0.3730462\ttotal: 4.23s\tremaining: 309ms\n",
            "932:\tlearn: 0.3729809\ttotal: 4.24s\tremaining: 304ms\n",
            "933:\tlearn: 0.3729375\ttotal: 4.24s\tremaining: 300ms\n",
            "934:\tlearn: 0.3728506\ttotal: 4.25s\tremaining: 295ms\n",
            "935:\tlearn: 0.3727974\ttotal: 4.25s\tremaining: 291ms\n",
            "936:\tlearn: 0.3727700\ttotal: 4.25s\tremaining: 286ms\n",
            "937:\tlearn: 0.3727233\ttotal: 4.26s\tremaining: 282ms\n",
            "938:\tlearn: 0.3726908\ttotal: 4.26s\tremaining: 277ms\n",
            "939:\tlearn: 0.3726478\ttotal: 4.27s\tremaining: 272ms\n",
            "940:\tlearn: 0.3725956\ttotal: 4.27s\tremaining: 268ms\n",
            "941:\tlearn: 0.3725729\ttotal: 4.27s\tremaining: 263ms\n",
            "942:\tlearn: 0.3725293\ttotal: 4.28s\tremaining: 259ms\n",
            "943:\tlearn: 0.3724656\ttotal: 4.28s\tremaining: 254ms\n",
            "944:\tlearn: 0.3724129\ttotal: 4.29s\tremaining: 249ms\n",
            "945:\tlearn: 0.3723412\ttotal: 4.29s\tremaining: 245ms\n",
            "946:\tlearn: 0.3722674\ttotal: 4.29s\tremaining: 240ms\n",
            "947:\tlearn: 0.3722117\ttotal: 4.3s\tremaining: 236ms\n",
            "948:\tlearn: 0.3721509\ttotal: 4.3s\tremaining: 231ms\n",
            "949:\tlearn: 0.3720808\ttotal: 4.31s\tremaining: 227ms\n",
            "950:\tlearn: 0.3720145\ttotal: 4.32s\tremaining: 222ms\n",
            "951:\tlearn: 0.3719317\ttotal: 4.32s\tremaining: 218ms\n",
            "952:\tlearn: 0.3719045\ttotal: 4.33s\tremaining: 214ms\n",
            "953:\tlearn: 0.3718352\ttotal: 4.33s\tremaining: 209ms\n",
            "954:\tlearn: 0.3717726\ttotal: 4.34s\tremaining: 204ms\n",
            "955:\tlearn: 0.3717169\ttotal: 4.34s\tremaining: 200ms\n",
            "956:\tlearn: 0.3716867\ttotal: 4.35s\tremaining: 195ms\n",
            "957:\tlearn: 0.3716352\ttotal: 4.35s\tremaining: 191ms\n",
            "958:\tlearn: 0.3715289\ttotal: 4.35s\tremaining: 186ms\n",
            "959:\tlearn: 0.3714608\ttotal: 4.36s\tremaining: 182ms\n",
            "960:\tlearn: 0.3714504\ttotal: 4.37s\tremaining: 177ms\n",
            "961:\tlearn: 0.3713818\ttotal: 4.38s\tremaining: 173ms\n",
            "962:\tlearn: 0.3713343\ttotal: 4.38s\tremaining: 168ms\n",
            "963:\tlearn: 0.3712685\ttotal: 4.39s\tremaining: 164ms\n",
            "964:\tlearn: 0.3711771\ttotal: 4.39s\tremaining: 159ms\n",
            "965:\tlearn: 0.3711326\ttotal: 4.4s\tremaining: 155ms\n",
            "966:\tlearn: 0.3710317\ttotal: 4.4s\tremaining: 150ms\n",
            "967:\tlearn: 0.3709776\ttotal: 4.41s\tremaining: 146ms\n",
            "968:\tlearn: 0.3709118\ttotal: 4.41s\tremaining: 141ms\n",
            "969:\tlearn: 0.3708672\ttotal: 4.42s\tremaining: 137ms\n",
            "970:\tlearn: 0.3708038\ttotal: 4.42s\tremaining: 132ms\n",
            "971:\tlearn: 0.3707186\ttotal: 4.42s\tremaining: 127ms\n",
            "972:\tlearn: 0.3706337\ttotal: 4.43s\tremaining: 123ms\n",
            "973:\tlearn: 0.3705870\ttotal: 4.43s\tremaining: 118ms\n",
            "974:\tlearn: 0.3704932\ttotal: 4.44s\tremaining: 114ms\n",
            "975:\tlearn: 0.3704379\ttotal: 4.44s\tremaining: 109ms\n",
            "976:\tlearn: 0.3703895\ttotal: 4.45s\tremaining: 105ms\n",
            "977:\tlearn: 0.3703560\ttotal: 4.45s\tremaining: 100ms\n",
            "978:\tlearn: 0.3702882\ttotal: 4.46s\tremaining: 95.6ms\n",
            "979:\tlearn: 0.3702419\ttotal: 4.46s\tremaining: 91.1ms\n",
            "980:\tlearn: 0.3701550\ttotal: 4.47s\tremaining: 86.5ms\n",
            "981:\tlearn: 0.3700704\ttotal: 4.47s\tremaining: 82ms\n",
            "982:\tlearn: 0.3700066\ttotal: 4.48s\tremaining: 77.4ms\n",
            "983:\tlearn: 0.3699529\ttotal: 4.48s\tremaining: 72.9ms\n",
            "984:\tlearn: 0.3698933\ttotal: 4.49s\tremaining: 68.3ms\n",
            "985:\tlearn: 0.3698703\ttotal: 4.49s\tremaining: 63.8ms\n",
            "986:\tlearn: 0.3698007\ttotal: 4.5s\tremaining: 59.2ms\n",
            "987:\tlearn: 0.3697905\ttotal: 4.5s\tremaining: 54.7ms\n",
            "988:\tlearn: 0.3697457\ttotal: 4.5s\tremaining: 50.1ms\n",
            "989:\tlearn: 0.3697026\ttotal: 4.51s\tremaining: 45.5ms\n",
            "990:\tlearn: 0.3696298\ttotal: 4.51s\tremaining: 41ms\n",
            "991:\tlearn: 0.3695343\ttotal: 4.52s\tremaining: 36.4ms\n",
            "992:\tlearn: 0.3694434\ttotal: 4.52s\tremaining: 31.9ms\n",
            "993:\tlearn: 0.3693762\ttotal: 4.53s\tremaining: 27.3ms\n",
            "994:\tlearn: 0.3693151\ttotal: 4.54s\tremaining: 22.8ms\n",
            "995:\tlearn: 0.3692677\ttotal: 4.54s\tremaining: 18.2ms\n",
            "996:\tlearn: 0.3691896\ttotal: 4.54s\tremaining: 13.7ms\n",
            "997:\tlearn: 0.3691240\ttotal: 4.55s\tremaining: 9.12ms\n",
            "998:\tlearn: 0.3690538\ttotal: 4.55s\tremaining: 4.56ms\n",
            "999:\tlearn: 0.3690105\ttotal: 4.56s\tremaining: 0us\n"
          ]
        },
        {
          "data": {
            "text/plain": [
              "Pipeline(steps=[('features',\n",
              "                 FeatureUnion(transformer_list=[('tenure',\n",
              "                                                 Pipeline(steps=[('selector',\n",
              "                                                                  NumberSelector(key='tenure')),\n",
              "                                                                 ('standard',\n",
              "                                                                  StandardScaler())])),\n",
              "                                                ('TotalCharges',\n",
              "                                                 Pipeline(steps=[('selector',\n",
              "                                                                  NumberSelector(key='TotalCharges')),\n",
              "                                                                 ('standard',\n",
              "                                                                  StandardScaler())])),\n",
              "                                                ('continuos_features',\n",
              "                                                 Pipeline(steps=[('selector',\n",
              "                                                                  ColumnSelector(key=['PhoneService',\n",
              "                                                                                      'StreamingMovies',\n",
              "                                                                                      'StreamingTV',\n",
              "                                                                                      'TechSupport']))])),\n",
              "                                                ('gender',\n",
              "                                                 Pipeline(steps=[('selector',\n",
              "                                                                  ColumnSelector(key='gender')),\n",
              "                                                                 ('ohe',\n",
              "                                                                  OHEEncoder(key='gender'))]))])),\n",
              "                ('classifier',\n",
              "                 <catboost.core.CatBoostClassifier object at 0x000001B95D156580>)])"
            ]
          },
          "execution_count": 18,
          "metadata": {},
          "output_type": "execute_result"
        }
      ],
      "source": [
        "from sklearn.ensemble import RandomForestClassifier\n",
        "from catboost import CatBoostClassifier\n",
        "\n",
        "pipeline_1 = Pipeline([\n",
        "    ('features',feats),\n",
        "    ('classifier', RandomForestClassifier(random_state = 42)),\n",
        "])\n",
        "pipeline_1.fit(X_train, y_train)\n",
        "\n",
        "pipeline_2 = Pipeline([\n",
        "    ('features',feats),\n",
        "    ('classifier', CatBoostClassifier(random_state = 42)),\n",
        "])\n",
        "\n",
        "pipeline_2.fit(X_train, y_train)"
      ]
    },
    {
      "cell_type": "markdown",
      "metadata": {
        "id": "voq3IQWdKKD4"
      },
      "source": [
        "##### 14. Сделайте прогноз вероятности оттока для X_test с помощью нашего предобученного на предыдущем шаге пайплайна и убедитесь что вам возвращаются вероятности для 2 классов"
      ]
    },
    {
      "cell_type": "code",
      "execution_count": 19,
      "metadata": {
        "id": "r6y_t7dLKKD4"
      },
      "outputs": [
        {
          "data": {
            "text/plain": [
              "array([0.71333333, 0.        , 0.        , 0.98      , 0.17      ,\n",
              "       0.1       , 0.06      , 0.        , 0.5       , 0.49238095])"
            ]
          },
          "execution_count": 19,
          "metadata": {},
          "output_type": "execute_result"
        }
      ],
      "source": [
        "preds_1 = pipeline_1.predict_proba(X_test)[:, 1]\n",
        "preds_1[:10]"
      ]
    },
    {
      "cell_type": "code",
      "execution_count": 20,
      "metadata": {},
      "outputs": [
        {
          "data": {
            "text/plain": [
              "array([0.52467111, 0.01949311, 0.01904239, 0.81435089, 0.00852314,\n",
              "       0.11358939, 0.24464131, 0.00156699, 0.25201124, 0.35855989])"
            ]
          },
          "execution_count": 20,
          "metadata": {},
          "output_type": "execute_result"
        }
      ],
      "source": [
        "preds_2 = pipeline_2.predict_proba(X_test)[:, 1]\n",
        "preds_2[:10]"
      ]
    },
    {
      "cell_type": "markdown",
      "metadata": {
        "id": "OiBJb-5LKKD4"
      },
      "source": [
        "##### 15. Посчитайте метрики качества получившейся модели (roc_auc, logloss)"
      ]
    },
    {
      "cell_type": "code",
      "execution_count": 21,
      "metadata": {},
      "outputs": [],
      "source": [
        "import seaborn as sns\n",
        "from sklearn.metrics import roc_auc_score, roc_curve, log_loss\n",
        "import pandas as pd\n",
        "import matplotlib.pyplot as plt\n",
        "from sklearn.ensemble import RandomForestClassifier\n",
        "from sklearn.model_selection import train_test_split\n",
        "sns.set(font_scale=1.5)\n",
        "sns.set_color_codes(\"muted\")"
      ]
    },
    {
      "cell_type": "code",
      "execution_count": 22,
      "metadata": {},
      "outputs": [
        {
          "data": {
            "text/plain": [
              "0.8060401121681611"
            ]
          },
          "execution_count": 22,
          "metadata": {},
          "output_type": "execute_result"
        }
      ],
      "source": [
        "# roc_auc RandomForestClassifier\n",
        "roc_auc_score(y_test, preds_1)"
      ]
    },
    {
      "cell_type": "code",
      "execution_count": 23,
      "metadata": {},
      "outputs": [
        {
          "data": {
            "text/plain": [
              "0.8420070414507603"
            ]
          },
          "execution_count": 23,
          "metadata": {},
          "output_type": "execute_result"
        }
      ],
      "source": [
        "# roc_auc CatBoostClassifier \n",
        "roc_auc_score(y_test, preds_2)"
      ]
    },
    {
      "cell_type": "code",
      "execution_count": 24,
      "metadata": {},
      "outputs": [
        {
          "data": {
            "text/plain": [
              "0.751095234457407"
            ]
          },
          "execution_count": 24,
          "metadata": {},
          "output_type": "execute_result"
        }
      ],
      "source": [
        "# logloss RandomForestClassifier\n",
        "log_loss(y_test, preds_1)"
      ]
    },
    {
      "cell_type": "code",
      "execution_count": 25,
      "metadata": {},
      "outputs": [
        {
          "data": {
            "text/plain": [
              "0.4251304192124646"
            ]
          },
          "execution_count": 25,
          "metadata": {},
          "output_type": "execute_result"
        }
      ],
      "source": [
        "# logloss CatBoostClassifier\n",
        "log_loss(y_test, preds_2)"
      ]
    },
    {
      "cell_type": "code",
      "execution_count": 26,
      "metadata": {},
      "outputs": [
        {
          "data": {
            "image/png": "[encoded data removed]",
            "text/plain": [
              "<Figure size 720x576 with 1 Axes>"
            ]
          },
          "metadata": {},
          "output_type": "display_data"
        }
      ],
      "source": [
        "# Построим  ROC-кривую\n",
        "plt.figure(figsize=(10, 8))\n",
        "fpr, tpr, thresholds = roc_curve(y_test, preds_1, pos_label=1)\n",
        "lw = 2\n",
        "plt.plot(fpr, tpr, lw=lw, label='ROC curve RandomForestClassifier')\n",
        "fpr_2, tpr_2, thresholds_2 = roc_curve(y_test, preds_2, pos_label=1)\n",
        "lw = 2\n",
        "plt.plot(fpr_2, tpr_2, lw=lw, label='ROC curve CatBoostClassifier')\n",
        "plt.plot([0, 1], [0, 1])\n",
        "plt.xlim([0.0, 1.0])\n",
        "plt.ylim([0.0, 1.05])\n",
        "plt.xlabel('False Positive Rate')\n",
        "plt.ylabel('True Positive Rate')\n",
        "plt.title('ROC curve')\n",
        "plt.savefig(\"ROC.png\")\n",
        "plt.legend()\n",
        "plt.show()"
      ]
    },
    {
      "cell_type": "markdown",
      "metadata": {},
      "source": [
        "Видим, что ROC-кривая при использовании CatBoostClassifier выше чем при использовании RandomForestClassifier"
      ]
    },
    {
      "cell_type": "markdown",
      "metadata": {
        "id": "nxIENPzcKKD5"
      },
      "source": [
        "### Сохраним наш пайплайн"
      ]
    },
    {
      "cell_type": "code",
      "execution_count": 28,
      "metadata": {
        "id": "9VdYyTplKKD5"
      },
      "outputs": [],
      "source": [
        "import dill\n",
        "with open(\"model_RF.dill\", \"wb\") as f:\n",
        "    dill.dump(pipeline_1, f)"
      ]
    }
  ],
  "metadata": {
    "colab": {
      "name": "HW1.ipynb",
      "provenance": []
    },
    "kernelspec": {
      "display_name": "Python 3.9.7 ('base')",
      "language": "python",
      "name": "python3"
    },
    "language_info": {
      "codemirror_mode": {
        "name": "ipython",
        "version": 3
      },
      "file_extension": ".py",
      "mimetype": "text/x-python",
      "name": "python",
      "nbconvert_exporter": "python",
      "pygments_lexer": "ipython3",
      "version": "3.9.7"
    },
    "vscode": {
      "interpreter": {
        "hash": "f239a55be8b825e82e3325cb180a42085fcdc860d0a315b7430c395b6f1231fa"
      }
    }
  },
  "nbformat": 4,
  "nbformat_minor": 0
}
